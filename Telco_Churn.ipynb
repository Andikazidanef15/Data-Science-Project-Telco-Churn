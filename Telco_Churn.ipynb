{
  "nbformat": 4,
  "nbformat_minor": 0,
  "metadata": {
    "colab": {
      "name": "Telco Churn.ipynb",
      "provenance": [],
      "collapsed_sections": [],
      "toc_visible": true
    },
    "kernelspec": {
      "name": "python3",
      "display_name": "Python 3"
    }
  },
  "cells": [
    {
      "cell_type": "markdown",
      "metadata": {
        "id": "DQ5rh51PhI7Z"
      },
      "source": [
        "# Projek Data Science I : Telco Customer Churn\n",
        "\n",
        "\n",
        "---\n",
        "\n",
        "Perusahaan Telco atau Telekomunikasi saat ini sedang naik daun semenjak COVID-19 melanda dunia yang mengakibatkan perlunya akses internet untuk melanjutkan aktivitas-aktivitas penting seperti pembelajaran ataupun mengisi waktu luang di kesehariannya. Sering kita temui bahwa pelanggan perusahaan telekomunikasi tidak melanjutkan layanannya dikarenakan faktor-faktor seperti biaya ataupun penawaran dari perusahaan lainnya yang lebih baik. Hilangnya pelanggan-pelanggan ini dikenal sebagai istilah *customer churn*. Kini, perusahaan telekomunikasi ini akan mencari tahu apa yang membuat pelanggan cenderung untuk tidak melanjutkan layanannya. Pada kesempatan ini akan dilakukan analisis terhadap data yang diberikan yang dengan harapan dapat menjawab pertanyaan berikut:\n",
        "\n",
        "* Apakah pelanggan dengan jumlah layanan yang banyak cenderung memiliki waktu tenure yang lama?\n",
        "* Apakah pelanggan yang memiliki partner dan/atau dependent lebih cenderung memiliki tenure yang lama?\n",
        "* Apakah pelanggan dengan biaya pelayanan yang tinggi memiliki waktu tenure yang lama?\n",
        "* Manakah features yang berdampak pada *customer churn*?\n",
        "* Apakah fitur yang ada dapat digunakan untuk memprediksi seorang pelanggan akan churn?\n"
      ]
    },
    {
      "cell_type": "markdown",
      "metadata": {
        "id": "TQ0DKmS912m4"
      },
      "source": [
        "Keterangan Data :\n",
        "\n",
        "* Pelanggan yang tidak berlangganan sejak sebulan lalu ada pada kolom churn \n",
        "\n",
        "* Terdapat beberapa servis/layanan untuk setiap pelanggan yakni pada kolom *phone*, *multiple lines*, *internet*, *online security*, *online backup*, *device protection*, *tech support*, dan *streaming TV and movies*\n",
        "\n",
        "* Informasi akun pelanggan mengenai berapa lama mereka telah menjadi pelanggan, metode pembayaran, biaya bulanan dan biaya total \n",
        "\n",
        "* Demographic info about customers – gender, age range, and if they have partners and dependents\n",
        "\n",
        "* Info demografik dari pelanggan mengenai jenis kelamin, jangkauan umur dan apabila mereka memiliki kawan atau sedang bergantung dengan orang tua atau tidak"
      ]
    },
    {
      "cell_type": "markdown",
      "metadata": {
        "id": "GUs-hsIaic1R"
      },
      "source": [
        "## Bagian I : Import Data dan Cek Features Data\n",
        "\n",
        "Untuk melakukan analisis data ini akan digunakan package-package sebagai berikut:\n",
        "\n",
        "* **pandas** untuk meng-*import* dan memanipulasikan data\n",
        "* **matplotlib.pyplot**, **plotly** dan **seaborn** untuk melakukan visualisasi data\n",
        "* **numpy** untuk melakukan manipulasi array\n",
        "* **sklearn** untuk melakukan proses Machine Learning pada data"
      ]
    },
    {
      "cell_type": "markdown",
      "metadata": {
        "id": "xHLcv1B2Mjq2"
      },
      "source": [
        "### Bagian I.A Import Packages"
      ]
    },
    {
      "cell_type": "code",
      "metadata": {
        "colab": {
          "base_uri": "https://localhost:8080/"
        },
        "id": "7sqO5PPWsWrp",
        "outputId": "c9c798cd-bb42-46f1-f376-7be50fc083c0"
      },
      "source": [
        "!pip install plotly\n",
        "!pip install chart_studio"
      ],
      "execution_count": null,
      "outputs": [
        {
          "output_type": "stream",
          "text": [
            "Requirement already satisfied: plotly in /usr/local/lib/python3.7/dist-packages (4.4.1)\n",
            "Requirement already satisfied: retrying>=1.3.3 in /usr/local/lib/python3.7/dist-packages (from plotly) (1.3.3)\n",
            "Requirement already satisfied: six in /usr/local/lib/python3.7/dist-packages (from plotly) (1.15.0)\n",
            "Collecting chart_studio\n",
            "\u001b[?25l  Downloading https://files.pythonhosted.org/packages/ca/ce/330794a6b6ca4b9182c38fc69dd2a9cbff60fd49421cb8648ee5fee352dc/chart_studio-1.1.0-py3-none-any.whl (64kB)\n",
            "\u001b[K     |████████████████████████████████| 71kB 2.8MB/s \n",
            "\u001b[?25hRequirement already satisfied: retrying>=1.3.3 in /usr/local/lib/python3.7/dist-packages (from chart_studio) (1.3.3)\n",
            "Requirement already satisfied: requests in /usr/local/lib/python3.7/dist-packages (from chart_studio) (2.23.0)\n",
            "Requirement already satisfied: plotly in /usr/local/lib/python3.7/dist-packages (from chart_studio) (4.4.1)\n",
            "Requirement already satisfied: six in /usr/local/lib/python3.7/dist-packages (from chart_studio) (1.15.0)\n",
            "Requirement already satisfied: chardet<4,>=3.0.2 in /usr/local/lib/python3.7/dist-packages (from requests->chart_studio) (3.0.4)\n",
            "Requirement already satisfied: certifi>=2017.4.17 in /usr/local/lib/python3.7/dist-packages (from requests->chart_studio) (2020.12.5)\n",
            "Requirement already satisfied: urllib3!=1.25.0,!=1.25.1,<1.26,>=1.21.1 in /usr/local/lib/python3.7/dist-packages (from requests->chart_studio) (1.24.3)\n",
            "Requirement already satisfied: idna<3,>=2.5 in /usr/local/lib/python3.7/dist-packages (from requests->chart_studio) (2.10)\n",
            "Installing collected packages: chart-studio\n",
            "Successfully installed chart-studio-1.1.0\n"
          ],
          "name": "stdout"
        }
      ]
    },
    {
      "cell_type": "code",
      "metadata": {
        "id": "ZGagfvM8z52x"
      },
      "source": [
        "import pandas as pd\n",
        "import matplotlib.pyplot as plt\n",
        "import chart_studio.plotly as py\n",
        "import plotly.graph_objs as go\n",
        "from plotly.offline import iplot\n",
        "import numpy as np\n",
        "import seaborn as sns"
      ],
      "execution_count": null,
      "outputs": []
    },
    {
      "cell_type": "code",
      "metadata": {
        "colab": {
          "base_uri": "https://localhost:8080/",
          "height": 51
        },
        "id": "XAgqk31n3NnP",
        "outputId": "3d56da43-9668-498b-8851-ab017cb9f0ea"
      },
      "source": [
        "sns.set_style('whitegrid')\n",
        "sns.color_palette(\"Set2\")\n",
        "plt.figure(figsize = (25,20))"
      ],
      "execution_count": null,
      "outputs": [
        {
          "output_type": "execute_result",
          "data": {
            "text/plain": [
              "<Figure size 1800x1440 with 0 Axes>"
            ]
          },
          "metadata": {
            "tags": []
          },
          "execution_count": 3
        },
        {
          "output_type": "display_data",
          "data": {
            "text/plain": [
              "<Figure size 1800x1440 with 0 Axes>"
            ]
          },
          "metadata": {
            "tags": []
          }
        }
      ]
    },
    {
      "cell_type": "markdown",
      "metadata": {
        "id": "gbAG2w4hz7x2"
      },
      "source": [
        "### Bagian I.B : Import Data dan Cek kebenaran data"
      ]
    },
    {
      "cell_type": "code",
      "metadata": {
        "id": "7TzlrhPNz8uo"
      },
      "source": [
        "df = pd.read_csv('https://raw.githubusercontent.com/Andikazidanef15/demo/master/WA_Fn-UseC_-Telco-Customer-Churn.csv')"
      ],
      "execution_count": null,
      "outputs": []
    },
    {
      "cell_type": "code",
      "metadata": {
        "colab": {
          "base_uri": "https://localhost:8080/",
          "height": 309
        },
        "id": "Y3aHlfS9MDKN",
        "outputId": "7fab8b66-b5f9-4583-8c80-8b92d827f156"
      },
      "source": [
        "df.head()"
      ],
      "execution_count": null,
      "outputs": [
        {
          "output_type": "execute_result",
          "data": {
            "text/html": [
              "<div>\n",
              "<style scoped>\n",
              "    .dataframe tbody tr th:only-of-type {\n",
              "        vertical-align: middle;\n",
              "    }\n",
              "\n",
              "    .dataframe tbody tr th {\n",
              "        vertical-align: top;\n",
              "    }\n",
              "\n",
              "    .dataframe thead th {\n",
              "        text-align: right;\n",
              "    }\n",
              "</style>\n",
              "<table border=\"1\" class=\"dataframe\">\n",
              "  <thead>\n",
              "    <tr style=\"text-align: right;\">\n",
              "      <th></th>\n",
              "      <th>customerID</th>\n",
              "      <th>gender</th>\n",
              "      <th>SeniorCitizen</th>\n",
              "      <th>Partner</th>\n",
              "      <th>Dependents</th>\n",
              "      <th>tenure</th>\n",
              "      <th>PhoneService</th>\n",
              "      <th>MultipleLines</th>\n",
              "      <th>InternetService</th>\n",
              "      <th>OnlineSecurity</th>\n",
              "      <th>OnlineBackup</th>\n",
              "      <th>DeviceProtection</th>\n",
              "      <th>TechSupport</th>\n",
              "      <th>StreamingTV</th>\n",
              "      <th>StreamingMovies</th>\n",
              "      <th>Contract</th>\n",
              "      <th>PaperlessBilling</th>\n",
              "      <th>PaymentMethod</th>\n",
              "      <th>MonthlyCharges</th>\n",
              "      <th>TotalCharges</th>\n",
              "      <th>Churn</th>\n",
              "    </tr>\n",
              "  </thead>\n",
              "  <tbody>\n",
              "    <tr>\n",
              "      <th>0</th>\n",
              "      <td>7590-VHVEG</td>\n",
              "      <td>Female</td>\n",
              "      <td>0</td>\n",
              "      <td>Yes</td>\n",
              "      <td>No</td>\n",
              "      <td>1</td>\n",
              "      <td>No</td>\n",
              "      <td>No phone service</td>\n",
              "      <td>DSL</td>\n",
              "      <td>No</td>\n",
              "      <td>Yes</td>\n",
              "      <td>No</td>\n",
              "      <td>No</td>\n",
              "      <td>No</td>\n",
              "      <td>No</td>\n",
              "      <td>Month-to-month</td>\n",
              "      <td>Yes</td>\n",
              "      <td>Electronic check</td>\n",
              "      <td>29.85</td>\n",
              "      <td>29.85</td>\n",
              "      <td>No</td>\n",
              "    </tr>\n",
              "    <tr>\n",
              "      <th>1</th>\n",
              "      <td>5575-GNVDE</td>\n",
              "      <td>Male</td>\n",
              "      <td>0</td>\n",
              "      <td>No</td>\n",
              "      <td>No</td>\n",
              "      <td>34</td>\n",
              "      <td>Yes</td>\n",
              "      <td>No</td>\n",
              "      <td>DSL</td>\n",
              "      <td>Yes</td>\n",
              "      <td>No</td>\n",
              "      <td>Yes</td>\n",
              "      <td>No</td>\n",
              "      <td>No</td>\n",
              "      <td>No</td>\n",
              "      <td>One year</td>\n",
              "      <td>No</td>\n",
              "      <td>Mailed check</td>\n",
              "      <td>56.95</td>\n",
              "      <td>1889.5</td>\n",
              "      <td>No</td>\n",
              "    </tr>\n",
              "    <tr>\n",
              "      <th>2</th>\n",
              "      <td>3668-QPYBK</td>\n",
              "      <td>Male</td>\n",
              "      <td>0</td>\n",
              "      <td>No</td>\n",
              "      <td>No</td>\n",
              "      <td>2</td>\n",
              "      <td>Yes</td>\n",
              "      <td>No</td>\n",
              "      <td>DSL</td>\n",
              "      <td>Yes</td>\n",
              "      <td>Yes</td>\n",
              "      <td>No</td>\n",
              "      <td>No</td>\n",
              "      <td>No</td>\n",
              "      <td>No</td>\n",
              "      <td>Month-to-month</td>\n",
              "      <td>Yes</td>\n",
              "      <td>Mailed check</td>\n",
              "      <td>53.85</td>\n",
              "      <td>108.15</td>\n",
              "      <td>Yes</td>\n",
              "    </tr>\n",
              "    <tr>\n",
              "      <th>3</th>\n",
              "      <td>7795-CFOCW</td>\n",
              "      <td>Male</td>\n",
              "      <td>0</td>\n",
              "      <td>No</td>\n",
              "      <td>No</td>\n",
              "      <td>45</td>\n",
              "      <td>No</td>\n",
              "      <td>No phone service</td>\n",
              "      <td>DSL</td>\n",
              "      <td>Yes</td>\n",
              "      <td>No</td>\n",
              "      <td>Yes</td>\n",
              "      <td>Yes</td>\n",
              "      <td>No</td>\n",
              "      <td>No</td>\n",
              "      <td>One year</td>\n",
              "      <td>No</td>\n",
              "      <td>Bank transfer (automatic)</td>\n",
              "      <td>42.30</td>\n",
              "      <td>1840.75</td>\n",
              "      <td>No</td>\n",
              "    </tr>\n",
              "    <tr>\n",
              "      <th>4</th>\n",
              "      <td>9237-HQITU</td>\n",
              "      <td>Female</td>\n",
              "      <td>0</td>\n",
              "      <td>No</td>\n",
              "      <td>No</td>\n",
              "      <td>2</td>\n",
              "      <td>Yes</td>\n",
              "      <td>No</td>\n",
              "      <td>Fiber optic</td>\n",
              "      <td>No</td>\n",
              "      <td>No</td>\n",
              "      <td>No</td>\n",
              "      <td>No</td>\n",
              "      <td>No</td>\n",
              "      <td>No</td>\n",
              "      <td>Month-to-month</td>\n",
              "      <td>Yes</td>\n",
              "      <td>Electronic check</td>\n",
              "      <td>70.70</td>\n",
              "      <td>151.65</td>\n",
              "      <td>Yes</td>\n",
              "    </tr>\n",
              "  </tbody>\n",
              "</table>\n",
              "</div>"
            ],
            "text/plain": [
              "   customerID  gender  SeniorCitizen  ... MonthlyCharges TotalCharges  Churn\n",
              "0  7590-VHVEG  Female              0  ...          29.85        29.85     No\n",
              "1  5575-GNVDE    Male              0  ...          56.95       1889.5     No\n",
              "2  3668-QPYBK    Male              0  ...          53.85       108.15    Yes\n",
              "3  7795-CFOCW    Male              0  ...          42.30      1840.75     No\n",
              "4  9237-HQITU  Female              0  ...          70.70       151.65    Yes\n",
              "\n",
              "[5 rows x 21 columns]"
            ]
          },
          "metadata": {
            "tags": []
          },
          "execution_count": 5
        }
      ]
    },
    {
      "cell_type": "code",
      "metadata": {
        "colab": {
          "base_uri": "https://localhost:8080/",
          "height": 309
        },
        "id": "isPIAGzrMFad",
        "outputId": "77f09c2d-2484-41a3-ed6f-07f6733d6b93"
      },
      "source": [
        "df.tail()"
      ],
      "execution_count": null,
      "outputs": [
        {
          "output_type": "execute_result",
          "data": {
            "text/html": [
              "<div>\n",
              "<style scoped>\n",
              "    .dataframe tbody tr th:only-of-type {\n",
              "        vertical-align: middle;\n",
              "    }\n",
              "\n",
              "    .dataframe tbody tr th {\n",
              "        vertical-align: top;\n",
              "    }\n",
              "\n",
              "    .dataframe thead th {\n",
              "        text-align: right;\n",
              "    }\n",
              "</style>\n",
              "<table border=\"1\" class=\"dataframe\">\n",
              "  <thead>\n",
              "    <tr style=\"text-align: right;\">\n",
              "      <th></th>\n",
              "      <th>customerID</th>\n",
              "      <th>gender</th>\n",
              "      <th>SeniorCitizen</th>\n",
              "      <th>Partner</th>\n",
              "      <th>Dependents</th>\n",
              "      <th>tenure</th>\n",
              "      <th>PhoneService</th>\n",
              "      <th>MultipleLines</th>\n",
              "      <th>InternetService</th>\n",
              "      <th>OnlineSecurity</th>\n",
              "      <th>OnlineBackup</th>\n",
              "      <th>DeviceProtection</th>\n",
              "      <th>TechSupport</th>\n",
              "      <th>StreamingTV</th>\n",
              "      <th>StreamingMovies</th>\n",
              "      <th>Contract</th>\n",
              "      <th>PaperlessBilling</th>\n",
              "      <th>PaymentMethod</th>\n",
              "      <th>MonthlyCharges</th>\n",
              "      <th>TotalCharges</th>\n",
              "      <th>Churn</th>\n",
              "    </tr>\n",
              "  </thead>\n",
              "  <tbody>\n",
              "    <tr>\n",
              "      <th>7038</th>\n",
              "      <td>6840-RESVB</td>\n",
              "      <td>Male</td>\n",
              "      <td>0</td>\n",
              "      <td>Yes</td>\n",
              "      <td>Yes</td>\n",
              "      <td>24</td>\n",
              "      <td>Yes</td>\n",
              "      <td>Yes</td>\n",
              "      <td>DSL</td>\n",
              "      <td>Yes</td>\n",
              "      <td>No</td>\n",
              "      <td>Yes</td>\n",
              "      <td>Yes</td>\n",
              "      <td>Yes</td>\n",
              "      <td>Yes</td>\n",
              "      <td>One year</td>\n",
              "      <td>Yes</td>\n",
              "      <td>Mailed check</td>\n",
              "      <td>84.80</td>\n",
              "      <td>1990.5</td>\n",
              "      <td>No</td>\n",
              "    </tr>\n",
              "    <tr>\n",
              "      <th>7039</th>\n",
              "      <td>2234-XADUH</td>\n",
              "      <td>Female</td>\n",
              "      <td>0</td>\n",
              "      <td>Yes</td>\n",
              "      <td>Yes</td>\n",
              "      <td>72</td>\n",
              "      <td>Yes</td>\n",
              "      <td>Yes</td>\n",
              "      <td>Fiber optic</td>\n",
              "      <td>No</td>\n",
              "      <td>Yes</td>\n",
              "      <td>Yes</td>\n",
              "      <td>No</td>\n",
              "      <td>Yes</td>\n",
              "      <td>Yes</td>\n",
              "      <td>One year</td>\n",
              "      <td>Yes</td>\n",
              "      <td>Credit card (automatic)</td>\n",
              "      <td>103.20</td>\n",
              "      <td>7362.9</td>\n",
              "      <td>No</td>\n",
              "    </tr>\n",
              "    <tr>\n",
              "      <th>7040</th>\n",
              "      <td>4801-JZAZL</td>\n",
              "      <td>Female</td>\n",
              "      <td>0</td>\n",
              "      <td>Yes</td>\n",
              "      <td>Yes</td>\n",
              "      <td>11</td>\n",
              "      <td>No</td>\n",
              "      <td>No phone service</td>\n",
              "      <td>DSL</td>\n",
              "      <td>Yes</td>\n",
              "      <td>No</td>\n",
              "      <td>No</td>\n",
              "      <td>No</td>\n",
              "      <td>No</td>\n",
              "      <td>No</td>\n",
              "      <td>Month-to-month</td>\n",
              "      <td>Yes</td>\n",
              "      <td>Electronic check</td>\n",
              "      <td>29.60</td>\n",
              "      <td>346.45</td>\n",
              "      <td>No</td>\n",
              "    </tr>\n",
              "    <tr>\n",
              "      <th>7041</th>\n",
              "      <td>8361-LTMKD</td>\n",
              "      <td>Male</td>\n",
              "      <td>1</td>\n",
              "      <td>Yes</td>\n",
              "      <td>No</td>\n",
              "      <td>4</td>\n",
              "      <td>Yes</td>\n",
              "      <td>Yes</td>\n",
              "      <td>Fiber optic</td>\n",
              "      <td>No</td>\n",
              "      <td>No</td>\n",
              "      <td>No</td>\n",
              "      <td>No</td>\n",
              "      <td>No</td>\n",
              "      <td>No</td>\n",
              "      <td>Month-to-month</td>\n",
              "      <td>Yes</td>\n",
              "      <td>Mailed check</td>\n",
              "      <td>74.40</td>\n",
              "      <td>306.6</td>\n",
              "      <td>Yes</td>\n",
              "    </tr>\n",
              "    <tr>\n",
              "      <th>7042</th>\n",
              "      <td>3186-AJIEK</td>\n",
              "      <td>Male</td>\n",
              "      <td>0</td>\n",
              "      <td>No</td>\n",
              "      <td>No</td>\n",
              "      <td>66</td>\n",
              "      <td>Yes</td>\n",
              "      <td>No</td>\n",
              "      <td>Fiber optic</td>\n",
              "      <td>Yes</td>\n",
              "      <td>No</td>\n",
              "      <td>Yes</td>\n",
              "      <td>Yes</td>\n",
              "      <td>Yes</td>\n",
              "      <td>Yes</td>\n",
              "      <td>Two year</td>\n",
              "      <td>Yes</td>\n",
              "      <td>Bank transfer (automatic)</td>\n",
              "      <td>105.65</td>\n",
              "      <td>6844.5</td>\n",
              "      <td>No</td>\n",
              "    </tr>\n",
              "  </tbody>\n",
              "</table>\n",
              "</div>"
            ],
            "text/plain": [
              "      customerID  gender  SeniorCitizen  ... MonthlyCharges TotalCharges  Churn\n",
              "7038  6840-RESVB    Male              0  ...          84.80       1990.5     No\n",
              "7039  2234-XADUH  Female              0  ...         103.20       7362.9     No\n",
              "7040  4801-JZAZL  Female              0  ...          29.60       346.45     No\n",
              "7041  8361-LTMKD    Male              1  ...          74.40        306.6    Yes\n",
              "7042  3186-AJIEK    Male              0  ...         105.65       6844.5     No\n",
              "\n",
              "[5 rows x 21 columns]"
            ]
          },
          "metadata": {
            "tags": []
          },
          "execution_count": 6
        }
      ]
    },
    {
      "cell_type": "code",
      "metadata": {
        "colab": {
          "base_uri": "https://localhost:8080/",
          "height": 297
        },
        "id": "22BG0OQ-MKhC",
        "outputId": "2b149904-d7bf-41fc-d186-7075bb6b024e"
      },
      "source": [
        "df.describe()"
      ],
      "execution_count": null,
      "outputs": [
        {
          "output_type": "execute_result",
          "data": {
            "text/html": [
              "<div>\n",
              "<style scoped>\n",
              "    .dataframe tbody tr th:only-of-type {\n",
              "        vertical-align: middle;\n",
              "    }\n",
              "\n",
              "    .dataframe tbody tr th {\n",
              "        vertical-align: top;\n",
              "    }\n",
              "\n",
              "    .dataframe thead th {\n",
              "        text-align: right;\n",
              "    }\n",
              "</style>\n",
              "<table border=\"1\" class=\"dataframe\">\n",
              "  <thead>\n",
              "    <tr style=\"text-align: right;\">\n",
              "      <th></th>\n",
              "      <th>SeniorCitizen</th>\n",
              "      <th>tenure</th>\n",
              "      <th>MonthlyCharges</th>\n",
              "    </tr>\n",
              "  </thead>\n",
              "  <tbody>\n",
              "    <tr>\n",
              "      <th>count</th>\n",
              "      <td>7043.000000</td>\n",
              "      <td>7043.000000</td>\n",
              "      <td>7043.000000</td>\n",
              "    </tr>\n",
              "    <tr>\n",
              "      <th>mean</th>\n",
              "      <td>0.162147</td>\n",
              "      <td>32.371149</td>\n",
              "      <td>64.761692</td>\n",
              "    </tr>\n",
              "    <tr>\n",
              "      <th>std</th>\n",
              "      <td>0.368612</td>\n",
              "      <td>24.559481</td>\n",
              "      <td>30.090047</td>\n",
              "    </tr>\n",
              "    <tr>\n",
              "      <th>min</th>\n",
              "      <td>0.000000</td>\n",
              "      <td>0.000000</td>\n",
              "      <td>18.250000</td>\n",
              "    </tr>\n",
              "    <tr>\n",
              "      <th>25%</th>\n",
              "      <td>0.000000</td>\n",
              "      <td>9.000000</td>\n",
              "      <td>35.500000</td>\n",
              "    </tr>\n",
              "    <tr>\n",
              "      <th>50%</th>\n",
              "      <td>0.000000</td>\n",
              "      <td>29.000000</td>\n",
              "      <td>70.350000</td>\n",
              "    </tr>\n",
              "    <tr>\n",
              "      <th>75%</th>\n",
              "      <td>0.000000</td>\n",
              "      <td>55.000000</td>\n",
              "      <td>89.850000</td>\n",
              "    </tr>\n",
              "    <tr>\n",
              "      <th>max</th>\n",
              "      <td>1.000000</td>\n",
              "      <td>72.000000</td>\n",
              "      <td>118.750000</td>\n",
              "    </tr>\n",
              "  </tbody>\n",
              "</table>\n",
              "</div>"
            ],
            "text/plain": [
              "       SeniorCitizen       tenure  MonthlyCharges\n",
              "count    7043.000000  7043.000000     7043.000000\n",
              "mean        0.162147    32.371149       64.761692\n",
              "std         0.368612    24.559481       30.090047\n",
              "min         0.000000     0.000000       18.250000\n",
              "25%         0.000000     9.000000       35.500000\n",
              "50%         0.000000    29.000000       70.350000\n",
              "75%         0.000000    55.000000       89.850000\n",
              "max         1.000000    72.000000      118.750000"
            ]
          },
          "metadata": {
            "tags": []
          },
          "execution_count": 7
        }
      ]
    },
    {
      "cell_type": "code",
      "metadata": {
        "colab": {
          "base_uri": "https://localhost:8080/"
        },
        "id": "r524E0BrMVBX",
        "outputId": "8b27e82f-c01b-44b9-b24e-4c6faa9db8c3"
      },
      "source": [
        "df.info()"
      ],
      "execution_count": null,
      "outputs": [
        {
          "output_type": "stream",
          "text": [
            "<class 'pandas.core.frame.DataFrame'>\n",
            "RangeIndex: 7043 entries, 0 to 7042\n",
            "Data columns (total 21 columns):\n",
            " #   Column            Non-Null Count  Dtype  \n",
            "---  ------            --------------  -----  \n",
            " 0   customerID        7043 non-null   object \n",
            " 1   gender            7043 non-null   object \n",
            " 2   SeniorCitizen     7043 non-null   int64  \n",
            " 3   Partner           7043 non-null   object \n",
            " 4   Dependents        7043 non-null   object \n",
            " 5   tenure            7043 non-null   int64  \n",
            " 6   PhoneService      7043 non-null   object \n",
            " 7   MultipleLines     7043 non-null   object \n",
            " 8   InternetService   7043 non-null   object \n",
            " 9   OnlineSecurity    7043 non-null   object \n",
            " 10  OnlineBackup      7043 non-null   object \n",
            " 11  DeviceProtection  7043 non-null   object \n",
            " 12  TechSupport       7043 non-null   object \n",
            " 13  StreamingTV       7043 non-null   object \n",
            " 14  StreamingMovies   7043 non-null   object \n",
            " 15  Contract          7043 non-null   object \n",
            " 16  PaperlessBilling  7043 non-null   object \n",
            " 17  PaymentMethod     7043 non-null   object \n",
            " 18  MonthlyCharges    7043 non-null   float64\n",
            " 19  TotalCharges      7043 non-null   object \n",
            " 20  Churn             7043 non-null   object \n",
            "dtypes: float64(1), int64(2), object(18)\n",
            "memory usage: 1.1+ MB\n"
          ],
          "name": "stdout"
        }
      ]
    },
    {
      "cell_type": "markdown",
      "metadata": {
        "id": "nl7Z2MTXOYfY"
      },
      "source": [
        "Lalu, definisikan kolom target dan kolom features. Dalam hal ini dapat kita bagi kolom features menjadi 3 yakni bagian servis, bagian identitas dan bagian akun pelanggan. Selain itu, karena kita lebih ingin tahu mengenai apakah pengguna ini menggunakan layanan secara keseluruhannya maka yang pelanggan yang memiliki layanan yang berbeda akan dianggap sama"
      ]
    },
    {
      "cell_type": "code",
      "metadata": {
        "id": "CWYMcdS8tCuW"
      },
      "source": [
        "# Pembagian Kolom\n",
        "target_column = 'Churn'\n",
        "service_column = ['PhoneService','MultipleLines','InternetService','OnlineSecurity','OnlineBackup','DeviceProtection','TechSupport','StreamingTV','StreamingMovies']\n",
        "identity_column = ['Partner','Dependents','gender']\n",
        "user_account_column = ['Contract','PaperlessBilling','PaymentMethod']\n"
      ],
      "execution_count": null,
      "outputs": []
    },
    {
      "cell_type": "code",
      "metadata": {
        "colab": {
          "base_uri": "https://localhost:8080/"
        },
        "id": "zGoaL50n0bu_",
        "outputId": "602b3edc-3f7e-4883-86e2-3fa1c22ef459"
      },
      "source": [
        "for service in service_column:\n",
        "  print(\"Kolom {} :\".format(service))\n",
        "  print(df[service].unique())\n",
        "  print(\"\")"
      ],
      "execution_count": null,
      "outputs": [
        {
          "output_type": "stream",
          "text": [
            "Kolom PhoneService :\n",
            "['No' 'Yes']\n",
            "\n",
            "Kolom MultipleLines :\n",
            "['No phone service' 'No' 'Yes']\n",
            "\n",
            "Kolom InternetService :\n",
            "['DSL' 'Fiber optic' 'No']\n",
            "\n",
            "Kolom OnlineSecurity :\n",
            "['No' 'Yes' 'No internet service']\n",
            "\n",
            "Kolom OnlineBackup :\n",
            "['Yes' 'No' 'No internet service']\n",
            "\n",
            "Kolom DeviceProtection :\n",
            "['No' 'Yes' 'No internet service']\n",
            "\n",
            "Kolom TechSupport :\n",
            "['No' 'Yes' 'No internet service']\n",
            "\n",
            "Kolom StreamingTV :\n",
            "['No' 'Yes' 'No internet service']\n",
            "\n",
            "Kolom StreamingMovies :\n",
            "['No' 'Yes' 'No internet service']\n",
            "\n"
          ],
          "name": "stdout"
        }
      ]
    },
    {
      "cell_type": "markdown",
      "metadata": {
        "id": "PaRfv8fhMzgv"
      },
      "source": [
        "kolom total charges seharusnya bertipe float karena ia adalah kolom numerik. Penting juga untuk mengecek ulang bahwa kolom total charge ini adalah hasil perkalian tenure (lama waktu (dalam bulan) pengguna menggunakan layanan telco) dengan monthly charge (biaya per bulan).\n",
        "\n",
        "Features-features yang berisi nilai seperti \"No\" atau \"No Internet Service\" akan disamakan menjadi \"No\" (agar perhitungan untuk jumlah layanan yang pelanggan miliki menjadi lebih mudah) dan juga jika pelanggan tersebut memiliki layanan yang berbeda maka akan disamakan\n",
        "\n",
        "Selain itu, features-features yang bersifat objek diubah menjadi kategorikal karena features-features ini melibatkan jawaban yang tidak random (seperti jenis layanan Internet dan Telepon). Features-features yang bersifat boolean (nilainya \"Yes\"/\"No\") akan diubah menjadi datatype boolean\n",
        "\n"
      ]
    },
    {
      "cell_type": "code",
      "metadata": {
        "id": "iUHLQDpyMvzE",
        "colab": {
          "base_uri": "https://localhost:8080/"
        },
        "outputId": "e5acff04-0463-4098-cb54-2b9010812a80"
      },
      "source": [
        "# Ubah tipe data TotalCharge dan pastikan nilainya benar\n",
        "df['TotalCharges'] = '0'\n",
        "df['TotalCharges'] = df['TotalCharges'].astype('float')\n",
        "df['TotalCharges'] = df['tenure']*df['MonthlyCharges']\n",
        "\n",
        "# Copy dataset untuk dijadikan analisis\n",
        "df1 = df.copy()\n",
        "\n",
        "# Samakan values No dan values layanan serta ubah tipe data\n",
        "for column in service_column:\n",
        "  for j in range(len(df1)):\n",
        "    if df1[column][j] == 'No phone service' or df1[column][j] == 'No internet service':\n",
        "      df1[column][j] = 'No'\n",
        "\n",
        "for i in range(len(df1)):\n",
        "  if df1['InternetService'][i] == 'DSL' or df1['InternetService'][i] == 'Fiber optic':\n",
        "    df1['InternetService'][i] = 'Yes'\n",
        "\n",
        "\n"
      ],
      "execution_count": null,
      "outputs": [
        {
          "output_type": "stream",
          "text": [
            "/usr/local/lib/python3.7/dist-packages/ipykernel_launcher.py:13: SettingWithCopyWarning:\n",
            "\n",
            "\n",
            "A value is trying to be set on a copy of a slice from a DataFrame\n",
            "\n",
            "See the caveats in the documentation: https://pandas.pydata.org/pandas-docs/stable/user_guide/indexing.html#returning-a-view-versus-a-copy\n",
            "\n",
            "/usr/local/lib/python3.7/dist-packages/ipykernel_launcher.py:17: SettingWithCopyWarning:\n",
            "\n",
            "\n",
            "A value is trying to be set on a copy of a slice from a DataFrame\n",
            "\n",
            "See the caveats in the documentation: https://pandas.pydata.org/pandas-docs/stable/user_guide/indexing.html#returning-a-view-versus-a-copy\n",
            "\n"
          ],
          "name": "stderr"
        }
      ]
    },
    {
      "cell_type": "code",
      "metadata": {
        "colab": {
          "base_uri": "https://localhost:8080/"
        },
        "id": "OtaVKbNERcps",
        "outputId": "12a47798-7652-445e-81a7-a5f0d1c6218d"
      },
      "source": [
        "df1.info()"
      ],
      "execution_count": null,
      "outputs": [
        {
          "output_type": "stream",
          "text": [
            "<class 'pandas.core.frame.DataFrame'>\n",
            "RangeIndex: 7043 entries, 0 to 7042\n",
            "Data columns (total 21 columns):\n",
            " #   Column            Non-Null Count  Dtype  \n",
            "---  ------            --------------  -----  \n",
            " 0   customerID        7043 non-null   object \n",
            " 1   gender            7043 non-null   object \n",
            " 2   SeniorCitizen     7043 non-null   int64  \n",
            " 3   Partner           7043 non-null   object \n",
            " 4   Dependents        7043 non-null   object \n",
            " 5   tenure            7043 non-null   int64  \n",
            " 6   PhoneService      7043 non-null   object \n",
            " 7   MultipleLines     7043 non-null   object \n",
            " 8   InternetService   7043 non-null   object \n",
            " 9   OnlineSecurity    7043 non-null   object \n",
            " 10  OnlineBackup      7043 non-null   object \n",
            " 11  DeviceProtection  7043 non-null   object \n",
            " 12  TechSupport       7043 non-null   object \n",
            " 13  StreamingTV       7043 non-null   object \n",
            " 14  StreamingMovies   7043 non-null   object \n",
            " 15  Contract          7043 non-null   object \n",
            " 16  PaperlessBilling  7043 non-null   object \n",
            " 17  PaymentMethod     7043 non-null   object \n",
            " 18  MonthlyCharges    7043 non-null   float64\n",
            " 19  TotalCharges      7043 non-null   float64\n",
            " 20  Churn             7043 non-null   object \n",
            "dtypes: float64(2), int64(2), object(17)\n",
            "memory usage: 1.1+ MB\n"
          ],
          "name": "stdout"
        }
      ]
    },
    {
      "cell_type": "markdown",
      "metadata": {
        "id": "M4ZaCQA7MvzG"
      },
      "source": [
        "Tidak ada null values dan data telah diperbaiki sehingga siap untuk dilakukan analisis"
      ]
    },
    {
      "cell_type": "markdown",
      "metadata": {
        "id": "qkKYMCj1rCC9"
      },
      "source": [
        "## Bagian II :  Exploratory Data Analysis\n",
        "\n",
        "Untuk menjawab pertanyaan-pertanyaan di atas penting untuk kita mengetahui seperti apa informasi yang dikandung oleh data ini beserta visualisasinya sehingga kita dapat menggunakan informasi tersebut untuk menjawab pertanyaan-pertanyaan di atas"
      ]
    },
    {
      "cell_type": "markdown",
      "metadata": {
        "id": "D2a_bFItcz0Z"
      },
      "source": [
        "### Apakah pelanggan dengan jumlah layanan yang banyak cenderung memiliki waktu tenure yang lama?\n",
        "\n",
        "Hipotesis saya menyatakan bahwa pelanggan dengan layanan yang banyak akan cenderung untuk melanjutkan pelayanan dalam waktu (tenure) yang lebih lama dibandingkan dengan pelanggan yang memiliki sedikit layanan. Kita dapat menguji hipotesis ini dengan melakukan analisis data dan mengolah informasi tersebut menjadi visualisasi data yang dapat diambil kesimpulannya"
      ]
    },
    {
      "cell_type": "markdown",
      "metadata": {
        "id": "uLuZmfxtONWY"
      },
      "source": [
        "Akan digunakan semua kolom data kecuali customerID karena customerID untuk tiap pelanggan unik sehingga tidak ada informasi yang bisa diperoleh darinya"
      ]
    },
    {
      "cell_type": "code",
      "metadata": {
        "id": "AKXKRq2Bruhy"
      },
      "source": [
        "data = df1[df1.columns[1:]]"
      ],
      "execution_count": null,
      "outputs": []
    },
    {
      "cell_type": "code",
      "metadata": {
        "colab": {
          "base_uri": "https://localhost:8080/",
          "height": 292
        },
        "id": "pK5kSC8rsOcq",
        "outputId": "956f70f2-d1e8-4b6b-ca99-582911ec7e0b"
      },
      "source": [
        "data.head()"
      ],
      "execution_count": null,
      "outputs": [
        {
          "output_type": "execute_result",
          "data": {
            "text/html": [
              "<div>\n",
              "<style scoped>\n",
              "    .dataframe tbody tr th:only-of-type {\n",
              "        vertical-align: middle;\n",
              "    }\n",
              "\n",
              "    .dataframe tbody tr th {\n",
              "        vertical-align: top;\n",
              "    }\n",
              "\n",
              "    .dataframe thead th {\n",
              "        text-align: right;\n",
              "    }\n",
              "</style>\n",
              "<table border=\"1\" class=\"dataframe\">\n",
              "  <thead>\n",
              "    <tr style=\"text-align: right;\">\n",
              "      <th></th>\n",
              "      <th>gender</th>\n",
              "      <th>SeniorCitizen</th>\n",
              "      <th>Partner</th>\n",
              "      <th>Dependents</th>\n",
              "      <th>tenure</th>\n",
              "      <th>PhoneService</th>\n",
              "      <th>MultipleLines</th>\n",
              "      <th>InternetService</th>\n",
              "      <th>OnlineSecurity</th>\n",
              "      <th>OnlineBackup</th>\n",
              "      <th>DeviceProtection</th>\n",
              "      <th>TechSupport</th>\n",
              "      <th>StreamingTV</th>\n",
              "      <th>StreamingMovies</th>\n",
              "      <th>Contract</th>\n",
              "      <th>PaperlessBilling</th>\n",
              "      <th>PaymentMethod</th>\n",
              "      <th>MonthlyCharges</th>\n",
              "      <th>TotalCharges</th>\n",
              "      <th>Churn</th>\n",
              "    </tr>\n",
              "  </thead>\n",
              "  <tbody>\n",
              "    <tr>\n",
              "      <th>0</th>\n",
              "      <td>Female</td>\n",
              "      <td>0</td>\n",
              "      <td>Yes</td>\n",
              "      <td>No</td>\n",
              "      <td>1</td>\n",
              "      <td>No</td>\n",
              "      <td>No</td>\n",
              "      <td>Yes</td>\n",
              "      <td>No</td>\n",
              "      <td>Yes</td>\n",
              "      <td>No</td>\n",
              "      <td>No</td>\n",
              "      <td>No</td>\n",
              "      <td>No</td>\n",
              "      <td>Month-to-month</td>\n",
              "      <td>Yes</td>\n",
              "      <td>Electronic check</td>\n",
              "      <td>29.85</td>\n",
              "      <td>29.85</td>\n",
              "      <td>No</td>\n",
              "    </tr>\n",
              "    <tr>\n",
              "      <th>1</th>\n",
              "      <td>Male</td>\n",
              "      <td>0</td>\n",
              "      <td>No</td>\n",
              "      <td>No</td>\n",
              "      <td>34</td>\n",
              "      <td>Yes</td>\n",
              "      <td>No</td>\n",
              "      <td>Yes</td>\n",
              "      <td>Yes</td>\n",
              "      <td>No</td>\n",
              "      <td>Yes</td>\n",
              "      <td>No</td>\n",
              "      <td>No</td>\n",
              "      <td>No</td>\n",
              "      <td>One year</td>\n",
              "      <td>No</td>\n",
              "      <td>Mailed check</td>\n",
              "      <td>56.95</td>\n",
              "      <td>1936.30</td>\n",
              "      <td>No</td>\n",
              "    </tr>\n",
              "    <tr>\n",
              "      <th>2</th>\n",
              "      <td>Male</td>\n",
              "      <td>0</td>\n",
              "      <td>No</td>\n",
              "      <td>No</td>\n",
              "      <td>2</td>\n",
              "      <td>Yes</td>\n",
              "      <td>No</td>\n",
              "      <td>Yes</td>\n",
              "      <td>Yes</td>\n",
              "      <td>Yes</td>\n",
              "      <td>No</td>\n",
              "      <td>No</td>\n",
              "      <td>No</td>\n",
              "      <td>No</td>\n",
              "      <td>Month-to-month</td>\n",
              "      <td>Yes</td>\n",
              "      <td>Mailed check</td>\n",
              "      <td>53.85</td>\n",
              "      <td>107.70</td>\n",
              "      <td>Yes</td>\n",
              "    </tr>\n",
              "    <tr>\n",
              "      <th>3</th>\n",
              "      <td>Male</td>\n",
              "      <td>0</td>\n",
              "      <td>No</td>\n",
              "      <td>No</td>\n",
              "      <td>45</td>\n",
              "      <td>No</td>\n",
              "      <td>No</td>\n",
              "      <td>Yes</td>\n",
              "      <td>Yes</td>\n",
              "      <td>No</td>\n",
              "      <td>Yes</td>\n",
              "      <td>Yes</td>\n",
              "      <td>No</td>\n",
              "      <td>No</td>\n",
              "      <td>One year</td>\n",
              "      <td>No</td>\n",
              "      <td>Bank transfer (automatic)</td>\n",
              "      <td>42.30</td>\n",
              "      <td>1903.50</td>\n",
              "      <td>No</td>\n",
              "    </tr>\n",
              "    <tr>\n",
              "      <th>4</th>\n",
              "      <td>Female</td>\n",
              "      <td>0</td>\n",
              "      <td>No</td>\n",
              "      <td>No</td>\n",
              "      <td>2</td>\n",
              "      <td>Yes</td>\n",
              "      <td>No</td>\n",
              "      <td>Yes</td>\n",
              "      <td>No</td>\n",
              "      <td>No</td>\n",
              "      <td>No</td>\n",
              "      <td>No</td>\n",
              "      <td>No</td>\n",
              "      <td>No</td>\n",
              "      <td>Month-to-month</td>\n",
              "      <td>Yes</td>\n",
              "      <td>Electronic check</td>\n",
              "      <td>70.70</td>\n",
              "      <td>141.40</td>\n",
              "      <td>Yes</td>\n",
              "    </tr>\n",
              "  </tbody>\n",
              "</table>\n",
              "</div>"
            ],
            "text/plain": [
              "   gender  SeniorCitizen Partner  ... MonthlyCharges  TotalCharges Churn\n",
              "0  Female              0     Yes  ...          29.85         29.85    No\n",
              "1    Male              0      No  ...          56.95       1936.30    No\n",
              "2    Male              0      No  ...          53.85        107.70   Yes\n",
              "3    Male              0      No  ...          42.30       1903.50    No\n",
              "4  Female              0      No  ...          70.70        141.40   Yes\n",
              "\n",
              "[5 rows x 20 columns]"
            ]
          },
          "metadata": {
            "tags": []
          },
          "execution_count": 85
        }
      ]
    },
    {
      "cell_type": "markdown",
      "metadata": {
        "id": "vxr_HXC_TzBB"
      },
      "source": [
        "Lalu, ubah value \"Yes\" menjadi 1 dan ubah value \"No\" menjadi 1. Hal ini dapat dilakukan dengan mengimport library distutils.util dan menggunakan fungsi strtobool untuk mengubah string Yes dan No menjadi 1 dan 0 berturut-turut"
      ]
    },
    {
      "cell_type": "code",
      "metadata": {
        "colab": {
          "base_uri": "https://localhost:8080/"
        },
        "id": "F_sOut-lTAyq",
        "outputId": "c2ea7b96-45b6-4295-975a-f49b1dbe7324"
      },
      "source": [
        "import distutils\n",
        "from distutils.util import strtobool\n",
        "\n",
        "data['Churn_num'] = 0\n",
        "for column in service_column:\n",
        "  for j in range(len(df1)):\n",
        "    data[column][j] = strtobool(data[column][j])\n",
        "    data['Churn_num'][j] = strtobool(data['Churn'][j])\n",
        "\n"
      ],
      "execution_count": null,
      "outputs": [
        {
          "output_type": "stream",
          "text": [
            "/usr/local/lib/python3.7/dist-packages/ipykernel_launcher.py:7: SettingWithCopyWarning:\n",
            "\n",
            "\n",
            "A value is trying to be set on a copy of a slice from a DataFrame\n",
            "\n",
            "See the caveats in the documentation: https://pandas.pydata.org/pandas-docs/stable/user_guide/indexing.html#returning-a-view-versus-a-copy\n",
            "\n",
            "/usr/local/lib/python3.7/dist-packages/ipykernel_launcher.py:8: SettingWithCopyWarning:\n",
            "\n",
            "\n",
            "A value is trying to be set on a copy of a slice from a DataFrame\n",
            "\n",
            "See the caveats in the documentation: https://pandas.pydata.org/pandas-docs/stable/user_guide/indexing.html#returning-a-view-versus-a-copy\n",
            "\n"
          ],
          "name": "stderr"
        }
      ]
    },
    {
      "cell_type": "code",
      "metadata": {
        "colab": {
          "base_uri": "https://localhost:8080/",
          "height": 292
        },
        "id": "4pa6WlFPUaHa",
        "outputId": "219fc21f-caea-4cae-b94a-1095c04bb7df"
      },
      "source": [
        "data.head()"
      ],
      "execution_count": null,
      "outputs": [
        {
          "output_type": "execute_result",
          "data": {
            "text/html": [
              "<div>\n",
              "<style scoped>\n",
              "    .dataframe tbody tr th:only-of-type {\n",
              "        vertical-align: middle;\n",
              "    }\n",
              "\n",
              "    .dataframe tbody tr th {\n",
              "        vertical-align: top;\n",
              "    }\n",
              "\n",
              "    .dataframe thead th {\n",
              "        text-align: right;\n",
              "    }\n",
              "</style>\n",
              "<table border=\"1\" class=\"dataframe\">\n",
              "  <thead>\n",
              "    <tr style=\"text-align: right;\">\n",
              "      <th></th>\n",
              "      <th>gender</th>\n",
              "      <th>SeniorCitizen</th>\n",
              "      <th>Partner</th>\n",
              "      <th>Dependents</th>\n",
              "      <th>tenure</th>\n",
              "      <th>PhoneService</th>\n",
              "      <th>MultipleLines</th>\n",
              "      <th>InternetService</th>\n",
              "      <th>OnlineSecurity</th>\n",
              "      <th>OnlineBackup</th>\n",
              "      <th>DeviceProtection</th>\n",
              "      <th>TechSupport</th>\n",
              "      <th>StreamingTV</th>\n",
              "      <th>StreamingMovies</th>\n",
              "      <th>Contract</th>\n",
              "      <th>PaperlessBilling</th>\n",
              "      <th>PaymentMethod</th>\n",
              "      <th>MonthlyCharges</th>\n",
              "      <th>TotalCharges</th>\n",
              "      <th>Churn</th>\n",
              "      <th>Churn_num</th>\n",
              "    </tr>\n",
              "  </thead>\n",
              "  <tbody>\n",
              "    <tr>\n",
              "      <th>0</th>\n",
              "      <td>Female</td>\n",
              "      <td>0</td>\n",
              "      <td>Yes</td>\n",
              "      <td>No</td>\n",
              "      <td>1</td>\n",
              "      <td>0</td>\n",
              "      <td>0</td>\n",
              "      <td>1</td>\n",
              "      <td>0</td>\n",
              "      <td>1</td>\n",
              "      <td>0</td>\n",
              "      <td>0</td>\n",
              "      <td>0</td>\n",
              "      <td>0</td>\n",
              "      <td>Month-to-month</td>\n",
              "      <td>Yes</td>\n",
              "      <td>Electronic check</td>\n",
              "      <td>29.85</td>\n",
              "      <td>29.85</td>\n",
              "      <td>No</td>\n",
              "      <td>0</td>\n",
              "    </tr>\n",
              "    <tr>\n",
              "      <th>1</th>\n",
              "      <td>Male</td>\n",
              "      <td>0</td>\n",
              "      <td>No</td>\n",
              "      <td>No</td>\n",
              "      <td>34</td>\n",
              "      <td>1</td>\n",
              "      <td>0</td>\n",
              "      <td>1</td>\n",
              "      <td>1</td>\n",
              "      <td>0</td>\n",
              "      <td>1</td>\n",
              "      <td>0</td>\n",
              "      <td>0</td>\n",
              "      <td>0</td>\n",
              "      <td>One year</td>\n",
              "      <td>No</td>\n",
              "      <td>Mailed check</td>\n",
              "      <td>56.95</td>\n",
              "      <td>1936.30</td>\n",
              "      <td>No</td>\n",
              "      <td>0</td>\n",
              "    </tr>\n",
              "    <tr>\n",
              "      <th>2</th>\n",
              "      <td>Male</td>\n",
              "      <td>0</td>\n",
              "      <td>No</td>\n",
              "      <td>No</td>\n",
              "      <td>2</td>\n",
              "      <td>1</td>\n",
              "      <td>0</td>\n",
              "      <td>1</td>\n",
              "      <td>1</td>\n",
              "      <td>1</td>\n",
              "      <td>0</td>\n",
              "      <td>0</td>\n",
              "      <td>0</td>\n",
              "      <td>0</td>\n",
              "      <td>Month-to-month</td>\n",
              "      <td>Yes</td>\n",
              "      <td>Mailed check</td>\n",
              "      <td>53.85</td>\n",
              "      <td>107.70</td>\n",
              "      <td>Yes</td>\n",
              "      <td>1</td>\n",
              "    </tr>\n",
              "    <tr>\n",
              "      <th>3</th>\n",
              "      <td>Male</td>\n",
              "      <td>0</td>\n",
              "      <td>No</td>\n",
              "      <td>No</td>\n",
              "      <td>45</td>\n",
              "      <td>0</td>\n",
              "      <td>0</td>\n",
              "      <td>1</td>\n",
              "      <td>1</td>\n",
              "      <td>0</td>\n",
              "      <td>1</td>\n",
              "      <td>1</td>\n",
              "      <td>0</td>\n",
              "      <td>0</td>\n",
              "      <td>One year</td>\n",
              "      <td>No</td>\n",
              "      <td>Bank transfer (automatic)</td>\n",
              "      <td>42.30</td>\n",
              "      <td>1903.50</td>\n",
              "      <td>No</td>\n",
              "      <td>0</td>\n",
              "    </tr>\n",
              "    <tr>\n",
              "      <th>4</th>\n",
              "      <td>Female</td>\n",
              "      <td>0</td>\n",
              "      <td>No</td>\n",
              "      <td>No</td>\n",
              "      <td>2</td>\n",
              "      <td>1</td>\n",
              "      <td>0</td>\n",
              "      <td>1</td>\n",
              "      <td>0</td>\n",
              "      <td>0</td>\n",
              "      <td>0</td>\n",
              "      <td>0</td>\n",
              "      <td>0</td>\n",
              "      <td>0</td>\n",
              "      <td>Month-to-month</td>\n",
              "      <td>Yes</td>\n",
              "      <td>Electronic check</td>\n",
              "      <td>70.70</td>\n",
              "      <td>141.40</td>\n",
              "      <td>Yes</td>\n",
              "      <td>1</td>\n",
              "    </tr>\n",
              "  </tbody>\n",
              "</table>\n",
              "</div>"
            ],
            "text/plain": [
              "   gender  SeniorCitizen Partner  ... TotalCharges  Churn Churn_num\n",
              "0  Female              0     Yes  ...        29.85     No         0\n",
              "1    Male              0      No  ...      1936.30     No         0\n",
              "2    Male              0      No  ...       107.70    Yes         1\n",
              "3    Male              0      No  ...      1903.50     No         0\n",
              "4  Female              0      No  ...       141.40    Yes         1\n",
              "\n",
              "[5 rows x 21 columns]"
            ]
          },
          "metadata": {
            "tags": []
          },
          "execution_count": 87
        }
      ]
    },
    {
      "cell_type": "markdown",
      "metadata": {
        "id": "CSTqNaI7U5Fd"
      },
      "source": [
        "Valuenya sudah terubah. Jadi sekarang akan dilakukan pejumlahan di seccara mendatar (axis = 0) pada feature-feature service"
      ]
    },
    {
      "cell_type": "code",
      "metadata": {
        "colab": {
          "base_uri": "https://localhost:8080/"
        },
        "id": "PasxhpMRVERA",
        "outputId": "36890ba2-6483-42db-cef0-9b319b22ae96"
      },
      "source": [
        "data['service_count'] = 0\n",
        "for column in service_column:\n",
        "  for j in range(len(data)):\n",
        "    data['service_count'][j] += data[column][j]"
      ],
      "execution_count": null,
      "outputs": [
        {
          "output_type": "stream",
          "text": [
            "/usr/local/lib/python3.7/dist-packages/ipykernel_launcher.py:4: SettingWithCopyWarning:\n",
            "\n",
            "\n",
            "A value is trying to be set on a copy of a slice from a DataFrame\n",
            "\n",
            "See the caveats in the documentation: https://pandas.pydata.org/pandas-docs/stable/user_guide/indexing.html#returning-a-view-versus-a-copy\n",
            "\n"
          ],
          "name": "stderr"
        }
      ]
    },
    {
      "cell_type": "code",
      "metadata": {
        "colab": {
          "base_uri": "https://localhost:8080/"
        },
        "id": "Hy-8r0IZVuG5",
        "outputId": "2fa38120-cc10-4229-d2f8-1960ccf1e4bf"
      },
      "source": [
        "data['service_count']"
      ],
      "execution_count": null,
      "outputs": [
        {
          "output_type": "execute_result",
          "data": {
            "text/plain": [
              "0       2\n",
              "1       4\n",
              "2       4\n",
              "3       4\n",
              "4       2\n",
              "       ..\n",
              "7038    8\n",
              "7039    7\n",
              "7040    2\n",
              "7041    3\n",
              "7042    7\n",
              "Name: service_count, Length: 7043, dtype: int64"
            ]
          },
          "metadata": {
            "tags": []
          },
          "execution_count": 89
        }
      ]
    },
    {
      "cell_type": "markdown",
      "metadata": {
        "id": "5idV80HlV4GR"
      },
      "source": [
        "Lalu, bagi menjadi 3 kuartil (kuartil bawah, tengah, atas) dari kolom service_count ini dan visualisasi terhadap waktu tenure dan juga jumlah churn"
      ]
    },
    {
      "cell_type": "code",
      "metadata": {
        "id": "NgrMeX1uWEKK"
      },
      "source": [
        "data['service_category'] = pd.qcut(data['service_count'],3, labels = ['Sedikit','Sedang','Banyak'])"
      ],
      "execution_count": null,
      "outputs": []
    },
    {
      "cell_type": "code",
      "metadata": {
        "colab": {
          "base_uri": "https://localhost:8080/",
          "height": 623
        },
        "id": "8N9KAMNSXHJT",
        "outputId": "d8b5248b-1f2e-4137-9f88-f07932d4a25e"
      },
      "source": [
        "plt.figure(figsize = (15,10))\n",
        "sns.boxplot(x='Churn',y='tenure',hue = 'service_category', data = data)"
      ],
      "execution_count": null,
      "outputs": [
        {
          "output_type": "execute_result",
          "data": {
            "text/plain": [
              "<matplotlib.axes._subplots.AxesSubplot at 0x7f2fae42a610>"
            ]
          },
          "metadata": {
            "tags": []
          },
          "execution_count": 91
        },
        {
          "output_type": "display_data",
          "data": {
            "image/png": "[encoded data removed]",
            "text/plain": [
              "<Figure size 1080x720 with 1 Axes>"
            ]
          },
          "metadata": {
            "tags": []
          }
        }
      ]
    },
    {
      "cell_type": "markdown",
      "metadata": {
        "id": "vA02tDPjY_1X"
      },
      "source": [
        "Ternyata, banyaknya layanan pelanggan mempengaruhi lama pelanggan untuk tetap melanjutkan pelayanan atau tidak, pelanggan yang memiliki sedikit layanan memiliki mean tenure yang lebih rendah baik yang churn atau tidak dengan pelanggan yang memiliki banyak ataupun layanan yang sedang. Pelanggan yang memiliki banyak layanan cenderung memiliki tenure yang lebih lama dibanding yang lain baik yang churn ataupun tidak \n",
        "\n",
        "Perhatikan juga bahwa terdapat banyak pencilan di pelanggan yang churn dan memiliki sedikit layanan yang berarti bahwa meskipun pelanggan itu layanannya sedikit tetapi waktu (tenure) mereka dalam layanan lama sampai pada akhirnya pelanggan tersebut churn."
      ]
    },
    {
      "cell_type": "markdown",
      "metadata": {
        "id": "a-HJgSJBdS0m"
      },
      "source": [
        "### Apakah pelanggan dengan partner/dependent cenderung untuk melanjutkan pelayanan?\n",
        "\n",
        "Kadangkala jika kita awam terhadap layanan apa yang akan digunakan sering kali kita menanyakan rekan kita ataupun orang tua kita mengenai apa layanan yang seharusnya diambil. Hal ini tentu dapat mempengaruhi keputusan kita untuk tetap mengikuti layanannya atau tidak (meskipun karena kita awam kadang kita mungkin mencoba layanan baru).\n"
      ]
    },
    {
      "cell_type": "code",
      "metadata": {
        "colab": {
          "base_uri": "https://localhost:8080/",
          "height": 623
        },
        "id": "hhnr0KEGfNPK",
        "outputId": "6e7fb0e3-283e-47c6-97f2-a73a806f2973"
      },
      "source": [
        "plt.figure(figsize=(15,10))\n",
        "sns.boxplot(x='Churn',y='tenure',hue='Partner',data=data)"
      ],
      "execution_count": null,
      "outputs": [
        {
          "output_type": "execute_result",
          "data": {
            "text/plain": [
              "<matplotlib.axes._subplots.AxesSubplot at 0x7f2fae310590>"
            ]
          },
          "metadata": {
            "tags": []
          },
          "execution_count": 92
        },
        {
          "output_type": "display_data",
          "data": {
            "image/png": "[encoded data removed]",
            "text/plain": [
              "<Figure size 1080x720 with 1 Axes>"
            ]
          },
          "metadata": {
            "tags": []
          }
        }
      ]
    },
    {
      "cell_type": "markdown",
      "metadata": {
        "id": "kq_tN54QhwCZ"
      },
      "source": [
        "Untuk pelanggan yang memiliki partner, rata-rata waktu tenurenya lebih pendek dibandingkan dengan waktu tenure pelanggan yang tidak memiliki partner."
      ]
    },
    {
      "cell_type": "code",
      "metadata": {
        "colab": {
          "base_uri": "https://localhost:8080/",
          "height": 623
        },
        "id": "0_TYT5PofzdJ",
        "outputId": "9a7982d9-16fd-4182-b8ac-0b7c6acf547b"
      },
      "source": [
        "plt.figure(figsize=(15,10))\n",
        "sns.boxplot(x='Churn',y='tenure',hue='Dependents',data=data)"
      ],
      "execution_count": null,
      "outputs": [
        {
          "output_type": "execute_result",
          "data": {
            "text/plain": [
              "<matplotlib.axes._subplots.AxesSubplot at 0x7f2fadfed7d0>"
            ]
          },
          "metadata": {
            "tags": []
          },
          "execution_count": 93
        },
        {
          "output_type": "display_data",
          "data": {
            "image/png": "[encoded data removed]",
            "text/plain": [
              "<Figure size 1080x720 with 1 Axes>"
            ]
          },
          "metadata": {
            "tags": []
          }
        }
      ]
    },
    {
      "cell_type": "markdown",
      "metadata": {
        "id": "i_-WxKS4f_za"
      },
      "source": [
        "Sebaliknya, jika pelanggan tersebut dependents maka ada kecenderungan waktu tenure yang lebih lama dibandingkan dengan yang tidak. \n",
        "\n",
        "Lantas bagaimana dengan yang memiliki partner dan juga dependent? Untuk mendapatkannya kita harus menambahkan kolom baru mengenai True/False pelanggan tersebut memiliki partner dan dependent"
      ]
    },
    {
      "cell_type": "code",
      "metadata": {
        "colab": {
          "base_uri": "https://localhost:8080/"
        },
        "id": "cSyDVikjgQU6",
        "outputId": "a717d398-d7db-4218-bdca-1a99c237105f"
      },
      "source": [
        "data['Partner & Dependents'] = \"\"\n",
        "for i in range(len(data)):\n",
        "  if data['Partner'][i] == 'Yes' and data['Dependents'][i] == 'Yes':\n",
        "    data['Partner & Dependents'][i] = 'Yes'\n",
        "  else:\n",
        "    data['Partner & Dependents'][i] = 'No'"
      ],
      "execution_count": null,
      "outputs": [
        {
          "output_type": "stream",
          "text": [
            "/usr/local/lib/python3.7/dist-packages/ipykernel_launcher.py:6: SettingWithCopyWarning:\n",
            "\n",
            "\n",
            "A value is trying to be set on a copy of a slice from a DataFrame\n",
            "\n",
            "See the caveats in the documentation: https://pandas.pydata.org/pandas-docs/stable/user_guide/indexing.html#returning-a-view-versus-a-copy\n",
            "\n",
            "/usr/local/lib/python3.7/dist-packages/ipykernel_launcher.py:4: SettingWithCopyWarning:\n",
            "\n",
            "\n",
            "A value is trying to be set on a copy of a slice from a DataFrame\n",
            "\n",
            "See the caveats in the documentation: https://pandas.pydata.org/pandas-docs/stable/user_guide/indexing.html#returning-a-view-versus-a-copy\n",
            "\n"
          ],
          "name": "stderr"
        }
      ]
    },
    {
      "cell_type": "code",
      "metadata": {
        "colab": {
          "base_uri": "https://localhost:8080/",
          "height": 623
        },
        "id": "EAyf0M4ohn3z",
        "outputId": "129b7962-87b6-4f81-b85a-75b79413b04d"
      },
      "source": [
        "plt.figure(figsize=(15,10))\n",
        "sns.boxplot(x='Churn',y='tenure',hue='Partner & Dependents',data=data)"
      ],
      "execution_count": null,
      "outputs": [
        {
          "output_type": "execute_result",
          "data": {
            "text/plain": [
              "<matplotlib.axes._subplots.AxesSubplot at 0x7f2fae327810>"
            ]
          },
          "metadata": {
            "tags": []
          },
          "execution_count": 95
        },
        {
          "output_type": "display_data",
          "data": {
            "image/png": "[encoded data removed]",
            "text/plain": [
              "<Figure size 1080x720 with 1 Axes>"
            ]
          },
          "metadata": {
            "tags": []
          }
        }
      ]
    },
    {
      "cell_type": "markdown",
      "metadata": {
        "id": "QOu1Kdobidln"
      },
      "source": [
        "Ternyata jika pelanggan tersebut memiliki partner dan hidup bergantung maka ada kecenderungan waktu tenure pelanggan tersebut lebih lama dibandingkan dengan yang memiliki salah satunya atau tidak keduanya. Lalu, waktu tenure untuk pelanggan yang churn lebih rendah dibandingkan dengan yang tidak melakukan churn."
      ]
    },
    {
      "cell_type": "markdown",
      "metadata": {
        "id": "vOCoC0XfgAFQ"
      },
      "source": [
        "### Apakah pelanggan dengan biaya pelayanan yang tinggi cenderung memiliki waktu tenure yang lebih lama?\n",
        "\n",
        "Kadangkala punya biaya yang besar membuat kita mempertimbangkan untuk tetap berlangganan pada layanan tersebut apalagi jika terdapat perusahaan lain yang menawarkan layanan yang lebih murah kita jadi lebih ingin untuk memutuskan layanan kita saat ini. Lalu, apakah tren yang sama juga berlaku pada data ini? Mari kita amati\n",
        "\n",
        "Kita lihat fungsi distributif kumulatif besar TotalCharge pelanggan dengan plot"
      ]
    },
    {
      "cell_type": "code",
      "metadata": {
        "colab": {
          "base_uri": "https://localhost:8080/",
          "height": 623
        },
        "id": "w6mEuQWdgJAX",
        "outputId": "4a64c398-f286-4f69-a6ee-c3daca6a3f7d"
      },
      "source": [
        "plt.figure(figsize = (15,10))\n",
        "sns.kdeplot(data = data, x = 'TotalCharges', hue = 'Churn',cumulative=True, common_norm=False, common_grid=True)"
      ],
      "execution_count": null,
      "outputs": [
        {
          "output_type": "execute_result",
          "data": {
            "text/plain": [
              "<matplotlib.axes._subplots.AxesSubplot at 0x7f2fade67a10>"
            ]
          },
          "metadata": {
            "tags": []
          },
          "execution_count": 96
        },
        {
          "output_type": "display_data",
          "data": {
            "image/png": "[encoded data removed]",
            "text/plain": [
              "<Figure size 1080x720 with 1 Axes>"
            ]
          },
          "metadata": {
            "tags": []
          }
        }
      ]
    },
    {
      "cell_type": "markdown",
      "metadata": {
        "id": "spZ4Pjvbi6AU"
      },
      "source": [
        "Terdapat 50% pelanggan yang tidak churn yang memiliki total biaya kurang dari $\\$$ 2000 sementara terdapat sekitar 65% pelanggan yang churn yang memiliki total biaya kurang dari $\\$$2000. Disini ada kecenderungan bahwa ada peluang yang lebih tinggi untuk biaya tertentu pada pelanggan yang churn dibandingkan dengan yang tidak (Ini karena jumlah pelanggan yang churn lebih sedikit dibanding dengan yang tidak, mengakibatkan peluang untuk pelanggan yang churn lebih tinggi dibandingkan dengan yang tidak).\n",
        "\n",
        "Sekarang kita ingin melihat boxplot total charge dengan memperhatikan pelanggan yang churn dan yang tidak"
      ]
    },
    {
      "cell_type": "code",
      "metadata": {
        "colab": {
          "base_uri": "https://localhost:8080/"
        },
        "id": "0zxtMNxokoy0",
        "outputId": "80064233-3ad7-498a-d8a4-f49ab11aa83f"
      },
      "source": [
        "data['TotalCharges'].describe()"
      ],
      "execution_count": null,
      "outputs": [
        {
          "output_type": "execute_result",
          "data": {
            "text/plain": [
              "count    7043.000000\n",
              "mean     2279.581350\n",
              "std      2264.729447\n",
              "min         0.000000\n",
              "25%       394.000000\n",
              "50%      1393.600000\n",
              "75%      3786.100000\n",
              "max      8550.000000\n",
              "Name: TotalCharges, dtype: float64"
            ]
          },
          "metadata": {
            "tags": []
          },
          "execution_count": 97
        }
      ]
    },
    {
      "cell_type": "markdown",
      "metadata": {
        "id": "6QENEAMVls_p"
      },
      "source": [
        "Dari sini dapat dilihat quartil pertama, kedua dan ketiga serta nilai maksimum dari TotalCharge. Lalu, buat 1 feature tambahan untuk mengkategorikan TotalCharge masing-masing pelanggan"
      ]
    },
    {
      "cell_type": "code",
      "metadata": {
        "id": "jTC2l8ZUla_G"
      },
      "source": [
        "data['TotalCharges_cat'] = pd.qcut(data['TotalCharges'], q = 4)"
      ],
      "execution_count": null,
      "outputs": []
    },
    {
      "cell_type": "markdown",
      "metadata": {
        "id": "VY1twqPCmWVG"
      },
      "source": [
        "Buat boxplot mengenai waktu tenure dan kategori total charge"
      ]
    },
    {
      "cell_type": "code",
      "metadata": {
        "colab": {
          "base_uri": "https://localhost:8080/",
          "height": 623
        },
        "id": "WwLZY0rpmVZC",
        "outputId": "cf90a2e4-7d70-4745-fce4-c5acd679748f"
      },
      "source": [
        "plt.figure(figsize=(15,10))\n",
        "sns.boxplot(x='Churn',y='tenure',hue='TotalCharges_cat',data=data)"
      ],
      "execution_count": null,
      "outputs": [
        {
          "output_type": "execute_result",
          "data": {
            "text/plain": [
              "<matplotlib.axes._subplots.AxesSubplot at 0x7f2fae69fe10>"
            ]
          },
          "metadata": {
            "tags": []
          },
          "execution_count": 99
        },
        {
          "output_type": "display_data",
          "data": {
            "image/png": "[encoded data removed]",
            "text/plain": [
              "<Figure size 1080x720 with 1 Axes>"
            ]
          },
          "metadata": {
            "tags": []
          }
        }
      ]
    },
    {
      "cell_type": "markdown",
      "metadata": {
        "id": "OPWDRGSSoPd6"
      },
      "source": [
        "Melihat tren dari dua boxplot sebelumnya, ternyata pelanggan dengan biaya antara $\\$$3786 dan $\\$$8550 memiliki waktu tenure yang paling lama dibandingkan dengan yang lain. Lalu, untuk pelanggan dengan biaya lebih rendah cenderung memiliki waktu tenure yang lebih pendek "
      ]
    },
    {
      "cell_type": "markdown",
      "metadata": {
        "id": "96z2FhSno3ds"
      },
      "source": [
        "### Manakah features yang berdampak pada *customer churn*?"
      ]
    },
    {
      "cell_type": "markdown",
      "metadata": {
        "id": "cNdXCoiwv0IG"
      },
      "source": [
        "#### Korelasi antara Features lainnya dengan Churn\n",
        "Disini akan ditentukan korelasi antara features lainnya dengan feature Churn yang akan menjadi target/ yang akan diprediksi pada model Machine Learning yang akan kita buat. Pertama-pertama perlu kita ubah kolom-kolom yang berdatatype object menjadi numerik agar dapat dibuat visualisasi scatter plot beserta besar korelasinya "
      ]
    },
    {
      "cell_type": "code",
      "metadata": {
        "colab": {
          "base_uri": "https://localhost:8080/",
          "height": 309
        },
        "id": "o73zyhTwU0_1",
        "outputId": "0d13942b-c7e3-4bab-bf18-59c40bfe9cc9"
      },
      "source": [
        "data.head()"
      ],
      "execution_count": null,
      "outputs": [
        {
          "output_type": "execute_result",
          "data": {
            "text/html": [
              "<div>\n",
              "<style scoped>\n",
              "    .dataframe tbody tr th:only-of-type {\n",
              "        vertical-align: middle;\n",
              "    }\n",
              "\n",
              "    .dataframe tbody tr th {\n",
              "        vertical-align: top;\n",
              "    }\n",
              "\n",
              "    .dataframe thead th {\n",
              "        text-align: right;\n",
              "    }\n",
              "</style>\n",
              "<table border=\"1\" class=\"dataframe\">\n",
              "  <thead>\n",
              "    <tr style=\"text-align: right;\">\n",
              "      <th></th>\n",
              "      <th>gender</th>\n",
              "      <th>SeniorCitizen</th>\n",
              "      <th>Partner</th>\n",
              "      <th>Dependents</th>\n",
              "      <th>tenure</th>\n",
              "      <th>PhoneService</th>\n",
              "      <th>MultipleLines</th>\n",
              "      <th>InternetService</th>\n",
              "      <th>OnlineSecurity</th>\n",
              "      <th>OnlineBackup</th>\n",
              "      <th>DeviceProtection</th>\n",
              "      <th>TechSupport</th>\n",
              "      <th>StreamingTV</th>\n",
              "      <th>StreamingMovies</th>\n",
              "      <th>Contract</th>\n",
              "      <th>PaperlessBilling</th>\n",
              "      <th>PaymentMethod</th>\n",
              "      <th>MonthlyCharges</th>\n",
              "      <th>TotalCharges</th>\n",
              "      <th>Churn</th>\n",
              "      <th>Churn_num</th>\n",
              "      <th>service_count</th>\n",
              "      <th>service_category</th>\n",
              "      <th>Partner &amp; Dependents</th>\n",
              "      <th>TotalCharges_cat</th>\n",
              "    </tr>\n",
              "  </thead>\n",
              "  <tbody>\n",
              "    <tr>\n",
              "      <th>0</th>\n",
              "      <td>Female</td>\n",
              "      <td>0</td>\n",
              "      <td>Yes</td>\n",
              "      <td>No</td>\n",
              "      <td>1</td>\n",
              "      <td>0</td>\n",
              "      <td>0</td>\n",
              "      <td>1</td>\n",
              "      <td>0</td>\n",
              "      <td>1</td>\n",
              "      <td>0</td>\n",
              "      <td>0</td>\n",
              "      <td>0</td>\n",
              "      <td>0</td>\n",
              "      <td>Month-to-month</td>\n",
              "      <td>Yes</td>\n",
              "      <td>Electronic check</td>\n",
              "      <td>29.85</td>\n",
              "      <td>29.85</td>\n",
              "      <td>No</td>\n",
              "      <td>0</td>\n",
              "      <td>2</td>\n",
              "      <td>Sedikit</td>\n",
              "      <td>No</td>\n",
              "      <td>(-0.001, 394.0]</td>\n",
              "    </tr>\n",
              "    <tr>\n",
              "      <th>1</th>\n",
              "      <td>Male</td>\n",
              "      <td>0</td>\n",
              "      <td>No</td>\n",
              "      <td>No</td>\n",
              "      <td>34</td>\n",
              "      <td>1</td>\n",
              "      <td>0</td>\n",
              "      <td>1</td>\n",
              "      <td>1</td>\n",
              "      <td>0</td>\n",
              "      <td>1</td>\n",
              "      <td>0</td>\n",
              "      <td>0</td>\n",
              "      <td>0</td>\n",
              "      <td>One year</td>\n",
              "      <td>No</td>\n",
              "      <td>Mailed check</td>\n",
              "      <td>56.95</td>\n",
              "      <td>1936.30</td>\n",
              "      <td>No</td>\n",
              "      <td>0</td>\n",
              "      <td>4</td>\n",
              "      <td>Sedang</td>\n",
              "      <td>No</td>\n",
              "      <td>(1393.6, 3786.1]</td>\n",
              "    </tr>\n",
              "    <tr>\n",
              "      <th>2</th>\n",
              "      <td>Male</td>\n",
              "      <td>0</td>\n",
              "      <td>No</td>\n",
              "      <td>No</td>\n",
              "      <td>2</td>\n",
              "      <td>1</td>\n",
              "      <td>0</td>\n",
              "      <td>1</td>\n",
              "      <td>1</td>\n",
              "      <td>1</td>\n",
              "      <td>0</td>\n",
              "      <td>0</td>\n",
              "      <td>0</td>\n",
              "      <td>0</td>\n",
              "      <td>Month-to-month</td>\n",
              "      <td>Yes</td>\n",
              "      <td>Mailed check</td>\n",
              "      <td>53.85</td>\n",
              "      <td>107.70</td>\n",
              "      <td>Yes</td>\n",
              "      <td>1</td>\n",
              "      <td>4</td>\n",
              "      <td>Sedang</td>\n",
              "      <td>No</td>\n",
              "      <td>(-0.001, 394.0]</td>\n",
              "    </tr>\n",
              "    <tr>\n",
              "      <th>3</th>\n",
              "      <td>Male</td>\n",
              "      <td>0</td>\n",
              "      <td>No</td>\n",
              "      <td>No</td>\n",
              "      <td>45</td>\n",
              "      <td>0</td>\n",
              "      <td>0</td>\n",
              "      <td>1</td>\n",
              "      <td>1</td>\n",
              "      <td>0</td>\n",
              "      <td>1</td>\n",
              "      <td>1</td>\n",
              "      <td>0</td>\n",
              "      <td>0</td>\n",
              "      <td>One year</td>\n",
              "      <td>No</td>\n",
              "      <td>Bank transfer (automatic)</td>\n",
              "      <td>42.30</td>\n",
              "      <td>1903.50</td>\n",
              "      <td>No</td>\n",
              "      <td>0</td>\n",
              "      <td>4</td>\n",
              "      <td>Sedang</td>\n",
              "      <td>No</td>\n",
              "      <td>(1393.6, 3786.1]</td>\n",
              "    </tr>\n",
              "    <tr>\n",
              "      <th>4</th>\n",
              "      <td>Female</td>\n",
              "      <td>0</td>\n",
              "      <td>No</td>\n",
              "      <td>No</td>\n",
              "      <td>2</td>\n",
              "      <td>1</td>\n",
              "      <td>0</td>\n",
              "      <td>1</td>\n",
              "      <td>0</td>\n",
              "      <td>0</td>\n",
              "      <td>0</td>\n",
              "      <td>0</td>\n",
              "      <td>0</td>\n",
              "      <td>0</td>\n",
              "      <td>Month-to-month</td>\n",
              "      <td>Yes</td>\n",
              "      <td>Electronic check</td>\n",
              "      <td>70.70</td>\n",
              "      <td>141.40</td>\n",
              "      <td>Yes</td>\n",
              "      <td>1</td>\n",
              "      <td>2</td>\n",
              "      <td>Sedikit</td>\n",
              "      <td>No</td>\n",
              "      <td>(-0.001, 394.0]</td>\n",
              "    </tr>\n",
              "  </tbody>\n",
              "</table>\n",
              "</div>"
            ],
            "text/plain": [
              "   gender  SeniorCitizen  ... Partner & Dependents  TotalCharges_cat\n",
              "0  Female              0  ...                   No   (-0.001, 394.0]\n",
              "1    Male              0  ...                   No  (1393.6, 3786.1]\n",
              "2    Male              0  ...                   No   (-0.001, 394.0]\n",
              "3    Male              0  ...                   No  (1393.6, 3786.1]\n",
              "4  Female              0  ...                   No   (-0.001, 394.0]\n",
              "\n",
              "[5 rows x 25 columns]"
            ]
          },
          "metadata": {
            "tags": []
          },
          "execution_count": 100
        }
      ]
    },
    {
      "cell_type": "code",
      "metadata": {
        "id": "lddxCv_OsV7l",
        "colab": {
          "base_uri": "https://localhost:8080/"
        },
        "outputId": "31f21ea0-0a7c-4b42-eeb7-70400e447363"
      },
      "source": [
        "# Ubah kolom string menjadi numerik\n",
        "data_numeric = pd.get_dummies(data, columns = ['gender','Contract','PaymentMethod'])\n",
        "\n",
        "# Drop kolom-kolom yang tidak diperlukan\n",
        "data_numeric.drop(columns=['Churn', 'TotalCharges_cat','service_category','Partner & Dependents'],axis = 1,inplace = True)\n",
        "\n",
        "# Ubah value features Yes/No menjadi numerik\n",
        "for column in ['Partner','Dependents','PaperlessBilling'] :\n",
        "  for i in range(len(data_numeric)):\n",
        "    if data_numeric[column][i] == 'Yes' :\n",
        "      data_numeric[column][i] = 1\n",
        "    else:\n",
        "      data_numeric[column][i] = 0\n",
        "  data_numeric[column] = data_numeric[column].astype('int64')\n",
        "  \n",
        "# Ubah datatype features servis menjadi int64\n",
        "for column in service_column:\n",
        "  data_numeric[column] = data_numeric[column].astype('int64')\n"
      ],
      "execution_count": null,
      "outputs": [
        {
          "output_type": "stream",
          "text": [
            "/usr/local/lib/python3.7/dist-packages/ipykernel_launcher.py:11: SettingWithCopyWarning:\n",
            "\n",
            "\n",
            "A value is trying to be set on a copy of a slice from a DataFrame\n",
            "\n",
            "See the caveats in the documentation: https://pandas.pydata.org/pandas-docs/stable/user_guide/indexing.html#returning-a-view-versus-a-copy\n",
            "\n",
            "/usr/local/lib/python3.7/dist-packages/ipykernel_launcher.py:13: SettingWithCopyWarning:\n",
            "\n",
            "\n",
            "A value is trying to be set on a copy of a slice from a DataFrame\n",
            "\n",
            "See the caveats in the documentation: https://pandas.pydata.org/pandas-docs/stable/user_guide/indexing.html#returning-a-view-versus-a-copy\n",
            "\n"
          ],
          "name": "stderr"
        }
      ]
    },
    {
      "cell_type": "code",
      "metadata": {
        "colab": {
          "base_uri": "https://localhost:8080/"
        },
        "id": "OzA4CsmaVxIt",
        "outputId": "1930caed-6155-478c-c3c6-651fcc7acb21"
      },
      "source": [
        "data_numeric.info()"
      ],
      "execution_count": null,
      "outputs": [
        {
          "output_type": "stream",
          "text": [
            "<class 'pandas.core.frame.DataFrame'>\n",
            "RangeIndex: 7043 entries, 0 to 7042\n",
            "Data columns (total 27 columns):\n",
            " #   Column                                   Non-Null Count  Dtype  \n",
            "---  ------                                   --------------  -----  \n",
            " 0   SeniorCitizen                            7043 non-null   int64  \n",
            " 1   Partner                                  7043 non-null   int64  \n",
            " 2   Dependents                               7043 non-null   int64  \n",
            " 3   tenure                                   7043 non-null   int64  \n",
            " 4   PhoneService                             7043 non-null   int64  \n",
            " 5   MultipleLines                            7043 non-null   int64  \n",
            " 6   InternetService                          7043 non-null   int64  \n",
            " 7   OnlineSecurity                           7043 non-null   int64  \n",
            " 8   OnlineBackup                             7043 non-null   int64  \n",
            " 9   DeviceProtection                         7043 non-null   int64  \n",
            " 10  TechSupport                              7043 non-null   int64  \n",
            " 11  StreamingTV                              7043 non-null   int64  \n",
            " 12  StreamingMovies                          7043 non-null   int64  \n",
            " 13  PaperlessBilling                         7043 non-null   int64  \n",
            " 14  MonthlyCharges                           7043 non-null   float64\n",
            " 15  TotalCharges                             7043 non-null   float64\n",
            " 16  Churn_num                                7043 non-null   int64  \n",
            " 17  service_count                            7043 non-null   int64  \n",
            " 18  gender_Female                            7043 non-null   uint8  \n",
            " 19  gender_Male                              7043 non-null   uint8  \n",
            " 20  Contract_Month-to-month                  7043 non-null   uint8  \n",
            " 21  Contract_One year                        7043 non-null   uint8  \n",
            " 22  Contract_Two year                        7043 non-null   uint8  \n",
            " 23  PaymentMethod_Bank transfer (automatic)  7043 non-null   uint8  \n",
            " 24  PaymentMethod_Credit card (automatic)    7043 non-null   uint8  \n",
            " 25  PaymentMethod_Electronic check           7043 non-null   uint8  \n",
            " 26  PaymentMethod_Mailed check               7043 non-null   uint8  \n",
            "dtypes: float64(2), int64(16), uint8(9)\n",
            "memory usage: 1.0 MB\n"
          ],
          "name": "stdout"
        }
      ]
    },
    {
      "cell_type": "markdown",
      "metadata": {
        "id": "ns-pvn2paoR0"
      },
      "source": [
        "Setelah diubah features data menjadi numerik kita coba visualisasikan korelasi antara Churn dengan features lainnya"
      ]
    },
    {
      "cell_type": "code",
      "metadata": {
        "colab": {
          "base_uri": "https://localhost:8080/",
          "height": 729
        },
        "id": "_xu2lgN9rEMP",
        "outputId": "3a9747b3-d5f4-459d-fa3c-fbe9633aba99"
      },
      "source": [
        "# Hitung korelasi antar fitur\n",
        "corr = data_numeric.corr()\n",
        "col = np.array(corr.columns)\n",
        "\n",
        "# Buat visualisasi bar plot\n",
        "fig, ax = plt.subplots(figsize=(15,10), tight_layout=True)\n",
        "sns.barplot(x = corr['Churn_num'], y = col, color = 'cadetblue')\n",
        "plt.xlabel('Korelasi dengan Churn')\n",
        "plt.ylabel('Fitur')\n",
        "plt.show()"
      ],
      "execution_count": null,
      "outputs": [
        {
          "output_type": "display_data",
          "data": {
            "image/png": "[encoded data removed]",
            "text/plain": [
              "<Figure size 1080x720 with 1 Axes>"
            ]
          },
          "metadata": {
            "tags": []
          }
        }
      ]
    },
    {
      "cell_type": "markdown",
      "metadata": {
        "id": "menYVbKwcG7G"
      },
      "source": [
        "Dapat diamati bahwa features 'Contract Month to Month' dan 'PaymentMethod_Electronic check' berkorelasi positif dengan Churn secara signifikan. Sementara features 'Tenure', 'Contract_two_year' berkorelasi negatif dengan Churn. Fitur-fitur lain seperti 'MonthlyCharges', 'StramingMovies' dan layanan lainnya turut berkorelasi positif ataupun negatif dengan kolom Churn.\n",
        "\n",
        "Dari sini fitur yang paling berdampak diperoleh dari metode pembayaran, lama waktu kontrak dan diikuti oleh layanan-layanan lainnya."
      ]
    },
    {
      "cell_type": "markdown",
      "metadata": {
        "id": "kQmc38DXRah9"
      },
      "source": [
        "## Bagian III: Machine Learning\n",
        "\n",
        "Disini akan kita gunakan metode Machine Learning yakni KNeighborsClassifiers, Logistic Regression, SVM, Random Forest, Adaboost dan XGB Classifier untuk menguji manakah di antara keempat tersebut yang menghasilkan performa terbaik dalam memprediksi label. "
      ]
    },
    {
      "cell_type": "markdown",
      "metadata": {
        "id": "thfRhKsiS0Zt"
      },
      "source": [
        "#### Features dan Labels"
      ]
    },
    {
      "cell_type": "markdown",
      "metadata": {
        "id": "p1VdhIkQT-DK"
      },
      "source": [
        "##### Semua Features Identitas, Fasilitas, Akun Pengguna\n",
        "Disini akan digunakan data numerik yang telah kita olah sebelumnya tapi perlu ada yang dirubah dtype kolom object menjadi kolom numeric"
      ]
    },
    {
      "cell_type": "code",
      "metadata": {
        "id": "UEzICRENRfJl"
      },
      "source": [
        "data_train = data_numeric"
      ],
      "execution_count": null,
      "outputs": []
    },
    {
      "cell_type": "code",
      "metadata": {
        "colab": {
          "base_uri": "https://localhost:8080/",
          "height": 258
        },
        "id": "jGzZu2U5TYQz",
        "outputId": "44f805b0-0e5c-40b7-aa3e-1783f7b26b1e"
      },
      "source": [
        "data_train.head()"
      ],
      "execution_count": null,
      "outputs": [
        {
          "output_type": "execute_result",
          "data": {
            "text/html": [
              "<div>\n",
              "<style scoped>\n",
              "    .dataframe tbody tr th:only-of-type {\n",
              "        vertical-align: middle;\n",
              "    }\n",
              "\n",
              "    .dataframe tbody tr th {\n",
              "        vertical-align: top;\n",
              "    }\n",
              "\n",
              "    .dataframe thead th {\n",
              "        text-align: right;\n",
              "    }\n",
              "</style>\n",
              "<table border=\"1\" class=\"dataframe\">\n",
              "  <thead>\n",
              "    <tr style=\"text-align: right;\">\n",
              "      <th></th>\n",
              "      <th>SeniorCitizen</th>\n",
              "      <th>Partner</th>\n",
              "      <th>Dependents</th>\n",
              "      <th>tenure</th>\n",
              "      <th>PhoneService</th>\n",
              "      <th>MultipleLines</th>\n",
              "      <th>InternetService</th>\n",
              "      <th>OnlineSecurity</th>\n",
              "      <th>OnlineBackup</th>\n",
              "      <th>DeviceProtection</th>\n",
              "      <th>TechSupport</th>\n",
              "      <th>StreamingTV</th>\n",
              "      <th>StreamingMovies</th>\n",
              "      <th>PaperlessBilling</th>\n",
              "      <th>MonthlyCharges</th>\n",
              "      <th>TotalCharges</th>\n",
              "      <th>Churn_num</th>\n",
              "      <th>service_count</th>\n",
              "      <th>gender_Female</th>\n",
              "      <th>gender_Male</th>\n",
              "      <th>Contract_Month-to-month</th>\n",
              "      <th>Contract_One year</th>\n",
              "      <th>Contract_Two year</th>\n",
              "      <th>PaymentMethod_Bank transfer (automatic)</th>\n",
              "      <th>PaymentMethod_Credit card (automatic)</th>\n",
              "      <th>PaymentMethod_Electronic check</th>\n",
              "      <th>PaymentMethod_Mailed check</th>\n",
              "    </tr>\n",
              "  </thead>\n",
              "  <tbody>\n",
              "    <tr>\n",
              "      <th>0</th>\n",
              "      <td>0</td>\n",
              "      <td>1</td>\n",
              "      <td>0</td>\n",
              "      <td>1</td>\n",
              "      <td>0</td>\n",
              "      <td>0</td>\n",
              "      <td>1</td>\n",
              "      <td>0</td>\n",
              "      <td>1</td>\n",
              "      <td>0</td>\n",
              "      <td>0</td>\n",
              "      <td>0</td>\n",
              "      <td>0</td>\n",
              "      <td>1</td>\n",
              "      <td>29.85</td>\n",
              "      <td>29.85</td>\n",
              "      <td>0</td>\n",
              "      <td>2</td>\n",
              "      <td>1</td>\n",
              "      <td>0</td>\n",
              "      <td>1</td>\n",
              "      <td>0</td>\n",
              "      <td>0</td>\n",
              "      <td>0</td>\n",
              "      <td>0</td>\n",
              "      <td>1</td>\n",
              "      <td>0</td>\n",
              "    </tr>\n",
              "    <tr>\n",
              "      <th>1</th>\n",
              "      <td>0</td>\n",
              "      <td>0</td>\n",
              "      <td>0</td>\n",
              "      <td>34</td>\n",
              "      <td>1</td>\n",
              "      <td>0</td>\n",
              "      <td>1</td>\n",
              "      <td>1</td>\n",
              "      <td>0</td>\n",
              "      <td>1</td>\n",
              "      <td>0</td>\n",
              "      <td>0</td>\n",
              "      <td>0</td>\n",
              "      <td>0</td>\n",
              "      <td>56.95</td>\n",
              "      <td>1936.30</td>\n",
              "      <td>0</td>\n",
              "      <td>4</td>\n",
              "      <td>0</td>\n",
              "      <td>1</td>\n",
              "      <td>0</td>\n",
              "      <td>1</td>\n",
              "      <td>0</td>\n",
              "      <td>0</td>\n",
              "      <td>0</td>\n",
              "      <td>0</td>\n",
              "      <td>1</td>\n",
              "    </tr>\n",
              "    <tr>\n",
              "      <th>2</th>\n",
              "      <td>0</td>\n",
              "      <td>0</td>\n",
              "      <td>0</td>\n",
              "      <td>2</td>\n",
              "      <td>1</td>\n",
              "      <td>0</td>\n",
              "      <td>1</td>\n",
              "      <td>1</td>\n",
              "      <td>1</td>\n",
              "      <td>0</td>\n",
              "      <td>0</td>\n",
              "      <td>0</td>\n",
              "      <td>0</td>\n",
              "      <td>1</td>\n",
              "      <td>53.85</td>\n",
              "      <td>107.70</td>\n",
              "      <td>1</td>\n",
              "      <td>4</td>\n",
              "      <td>0</td>\n",
              "      <td>1</td>\n",
              "      <td>1</td>\n",
              "      <td>0</td>\n",
              "      <td>0</td>\n",
              "      <td>0</td>\n",
              "      <td>0</td>\n",
              "      <td>0</td>\n",
              "      <td>1</td>\n",
              "    </tr>\n",
              "    <tr>\n",
              "      <th>3</th>\n",
              "      <td>0</td>\n",
              "      <td>0</td>\n",
              "      <td>0</td>\n",
              "      <td>45</td>\n",
              "      <td>0</td>\n",
              "      <td>0</td>\n",
              "      <td>1</td>\n",
              "      <td>1</td>\n",
              "      <td>0</td>\n",
              "      <td>1</td>\n",
              "      <td>1</td>\n",
              "      <td>0</td>\n",
              "      <td>0</td>\n",
              "      <td>0</td>\n",
              "      <td>42.30</td>\n",
              "      <td>1903.50</td>\n",
              "      <td>0</td>\n",
              "      <td>4</td>\n",
              "      <td>0</td>\n",
              "      <td>1</td>\n",
              "      <td>0</td>\n",
              "      <td>1</td>\n",
              "      <td>0</td>\n",
              "      <td>1</td>\n",
              "      <td>0</td>\n",
              "      <td>0</td>\n",
              "      <td>0</td>\n",
              "    </tr>\n",
              "    <tr>\n",
              "      <th>4</th>\n",
              "      <td>0</td>\n",
              "      <td>0</td>\n",
              "      <td>0</td>\n",
              "      <td>2</td>\n",
              "      <td>1</td>\n",
              "      <td>0</td>\n",
              "      <td>1</td>\n",
              "      <td>0</td>\n",
              "      <td>0</td>\n",
              "      <td>0</td>\n",
              "      <td>0</td>\n",
              "      <td>0</td>\n",
              "      <td>0</td>\n",
              "      <td>1</td>\n",
              "      <td>70.70</td>\n",
              "      <td>141.40</td>\n",
              "      <td>1</td>\n",
              "      <td>2</td>\n",
              "      <td>1</td>\n",
              "      <td>0</td>\n",
              "      <td>1</td>\n",
              "      <td>0</td>\n",
              "      <td>0</td>\n",
              "      <td>0</td>\n",
              "      <td>0</td>\n",
              "      <td>1</td>\n",
              "      <td>0</td>\n",
              "    </tr>\n",
              "  </tbody>\n",
              "</table>\n",
              "</div>"
            ],
            "text/plain": [
              "   SeniorCitizen  ...  PaymentMethod_Mailed check\n",
              "0              0  ...                           0\n",
              "1              0  ...                           1\n",
              "2              0  ...                           1\n",
              "3              0  ...                           0\n",
              "4              0  ...                           0\n",
              "\n",
              "[5 rows x 27 columns]"
            ]
          },
          "metadata": {
            "tags": []
          },
          "execution_count": 120
        }
      ]
    },
    {
      "cell_type": "code",
      "metadata": {
        "colab": {
          "base_uri": "https://localhost:8080/"
        },
        "id": "b5yjNmqCTc9Q",
        "outputId": "5697c568-ad1b-43fb-c5cd-3863e0acdc9c"
      },
      "source": [
        "X = data_train.drop(columns=['Churn_num'])\n",
        "y = data_train['Churn_num']\n",
        "\n",
        "# Print Shape\n",
        "print('Shape Feature Columns: ',X.shape)\n",
        "print('Shape Target Columns: ', y.shape)"
      ],
      "execution_count": null,
      "outputs": [
        {
          "output_type": "stream",
          "text": [
            "Shape Feature Columns:  (7043, 26)\n",
            "Shape Target Columns:  (7043,)\n"
          ],
          "name": "stdout"
        }
      ]
    },
    {
      "cell_type": "markdown",
      "metadata": {
        "id": "NDSmPo2tUKL2"
      },
      "source": [
        "#### Training-Test Dataset\n",
        "\n",
        "Akan digunakan test size sebesar 0.3 dan training size dengan ukuran 0.7"
      ]
    },
    {
      "cell_type": "code",
      "metadata": {
        "colab": {
          "base_uri": "https://localhost:8080/"
        },
        "id": "jgjgjtGMT7S-",
        "outputId": "750426a3-bb9d-4278-b146-69430694bfc0"
      },
      "source": [
        "from sklearn.model_selection import train_test_split\n",
        "from sklearn.pipeline import make_pipeline\n",
        "\n",
        "# Splitting X dan y\n",
        "X_train, X_test, y_train, y_test = train_test_split(X,y, test_size = 0.3, random_state = 672)\n",
        "\n",
        "# Print Shape\n",
        "print('Shape X_train: ',X_train.shape)\n",
        "print('Shape y_train: ', y_train.shape)\n",
        "print('Shape X_test: ', X_test.shape)\n",
        "print('Shape y_test: ', y_test.shape)\n"
      ],
      "execution_count": null,
      "outputs": [
        {
          "output_type": "stream",
          "text": [
            "Shape X_train:  (4930, 26)\n",
            "Shape y_train:  (4930,)\n",
            "Shape X_test:  (2113, 26)\n",
            "Shape y_test:  (2113,)\n"
          ],
          "name": "stdout"
        }
      ]
    },
    {
      "cell_type": "markdown",
      "metadata": {
        "id": "wVSELHcLU7Ry"
      },
      "source": [
        "#### Using The Classifiers"
      ]
    },
    {
      "cell_type": "markdown",
      "metadata": {
        "id": "-czQ11LpDsoc"
      },
      "source": [
        "Sebelumnya, akan dibuat fungsi untuk menghitung accuracy, precision, f1_score dan recall"
      ]
    },
    {
      "cell_type": "code",
      "metadata": {
        "colab": {
          "base_uri": "https://localhost:8080/"
        },
        "id": "-vbbww5TDH9i",
        "outputId": "75055923-cc26-459b-b304-fc1679093cef"
      },
      "source": [
        "from sklearn.metrics import confusion_matrix, classification_report\n",
        "models = XGBClassifier()\n",
        "models.fit(X_train,y_train)\n",
        "y_pred = models.predict(X_test)\n",
        "mat = confusion_matrix(y_test,y_pred)\n",
        "\n",
        "mat[0][0]\n",
        "print(mat)"
      ],
      "execution_count": null,
      "outputs": [
        {
          "output_type": "stream",
          "text": [
            "[[1390  154]\n",
            " [ 274  295]]\n"
          ],
          "name": "stdout"
        }
      ]
    },
    {
      "cell_type": "code",
      "metadata": {
        "id": "KwXsGhq1D0kq"
      },
      "source": [
        "def accuracy(conf_matrix):\n",
        "  ''' Fungsi ini digunakan untuk menentukan nilai akurasi dari prediksi model ML '''\n",
        "  # Definisikan variabel \n",
        "  true_positive = conf_matrix[0][0]\n",
        "  false_negative = conf_matrix[0][1]\n",
        "  false_positive = conf_matrix[1][0]\n",
        "  true_negative = conf_matrix[1][1]\n",
        "\n",
        "  # Hitung accuracy score\n",
        "  accuracy = (true_positive + true_negative)/(true_positive + true_negative + false_positive + false_negative)\n",
        "  \n",
        "  return accuracy\n",
        "\n",
        "def precision(conf_matrix):\n",
        "  ''' Fungsi ini digunakan untuk menentukan nilai precision dari prediksi model ML '''\n",
        "   # Definisikan variabel \n",
        "  true_positive = conf_matrix[0][0]\n",
        "  false_negative = conf_matrix[0][1]\n",
        "  false_positive = conf_matrix[1][0]\n",
        "  true_negative = conf_matrix[1][1]\n",
        "\n",
        "  # Hitung precision score\n",
        "  precision = (true_positive)/(true_positive + false_positive)\n",
        "  \n",
        "  return precision\n",
        "\n",
        "def recall(conf_matrix):\n",
        "  ''' Fungsi ini digunakan untuk menentukan nilai recall dari prediksi model ML '''\n",
        "\n",
        "   # Definisikan variabel \n",
        "  true_positive = conf_matrix[0][0]\n",
        "  false_negative = conf_matrix[0][1]\n",
        "  false_positive = conf_matrix[1][0]\n",
        "  true_negative = conf_matrix[1][1]\n",
        "\n",
        "  # Hitung recall score\n",
        "  recall = (true_positive)/(true_positive + true_negative)\n",
        "\n",
        "  return recall\n",
        "\n",
        "def f1(conf_matrix):\n",
        "  ''' Fungsi ini digunakan untuk menentukan nilai f1 dari prediksi model ML '''\n",
        "\n",
        "  # Hitung recall score\n",
        "  f1 = 2- ((precision(conf_matrix)*recall(conf_matrix))/(precision(conf_matrix) + recall(conf_matrix)))\n",
        "\n",
        "  return f1"
      ],
      "execution_count": null,
      "outputs": []
    },
    {
      "cell_type": "code",
      "metadata": {
        "id": "jsssjTt6U0Th"
      },
      "source": [
        "from sklearn.neighbors import KNeighborsClassifier\n",
        "from sklearn.svm import SVC\n",
        "from xgboost import XGBClassifier\n",
        "from sklearn.linear_model import LogisticRegression\n",
        "from sklearn.ensemble import RandomForestClassifier,AdaBoostClassifier\n",
        "from sklearn.preprocessing import StandardScaler, MinMaxScaler\n",
        "\n",
        "# Panggil classifier\n",
        "classifier = [KNeighborsClassifier(), SVC(), LogisticRegression(max_iter = 500), RandomForestClassifier(),AdaBoostClassifier(),XGBClassifier()]\n",
        "\n",
        "# Buat array yang akan diisi oleh skor masing-masing model classifier\n",
        "training_accuracy = []\n",
        "testing_accuracy = []\n",
        "accuracy_score = []\n",
        "precision_score = []\n",
        "recall_score = []\n",
        "f1_score = []\n",
        "\n",
        "for i in range(len(classifier)):\n",
        "  model = classifier[i]\n",
        "  model.fit(X_train,y_train)\n",
        "  y_pred = model.predict(X_test)\n",
        "  conf_matrix = confusion_matrix(y_test,y_pred)\n",
        "\n",
        "  # Tambahkan setiap skor ke array yang telah disediakan\n",
        "  training_accuracy.append(model.score(X_train, y_train))\n",
        "  testing_accuracy.append(model.score(X_test, y_test))\n",
        "\n",
        "  accuracy_score.append(accuracy(conf_matrix))\n",
        "  precision_score.append(precision(conf_matrix))\n",
        "  recall_score.append(recall(conf_matrix))\n",
        "  f1_score.append(f1(conf_matrix))\n"
      ],
      "execution_count": null,
      "outputs": []
    },
    {
      "cell_type": "code",
      "metadata": {
        "id": "yG6cm-FXlgdl"
      },
      "source": [
        "data_class = {'Model':['K-Nearest Neighbors (KNN)', 'Support Vector Machine (SVM)', 'Logistic Regression', 'Random Forest','Adaptive Boosting (Adaboost)','Extreme Gradient Boosting (XGB)'], 'Training Accuracy':training_accuracy, 'Testing Accuracy':testing_accuracy, \n",
        "              'Accuracy Score':accuracy_score, 'Precision Score':precision_score, 'Recall Score':recall_score, 'F1 Score':f1_score}\n",
        "data_class = pd.DataFrame(data_class)"
      ],
      "execution_count": null,
      "outputs": []
    },
    {
      "cell_type": "code",
      "metadata": {
        "colab": {
          "base_uri": "https://localhost:8080/",
          "height": 235
        },
        "id": "0SrPxTDGlvbC",
        "outputId": "4060192b-9d7d-4b88-bd01-ad4739e982ae"
      },
      "source": [
        "data_class"
      ],
      "execution_count": null,
      "outputs": [
        {
          "output_type": "execute_result",
          "data": {
            "text/html": [
              "<div>\n",
              "<style scoped>\n",
              "    .dataframe tbody tr th:only-of-type {\n",
              "        vertical-align: middle;\n",
              "    }\n",
              "\n",
              "    .dataframe tbody tr th {\n",
              "        vertical-align: top;\n",
              "    }\n",
              "\n",
              "    .dataframe thead th {\n",
              "        text-align: right;\n",
              "    }\n",
              "</style>\n",
              "<table border=\"1\" class=\"dataframe\">\n",
              "  <thead>\n",
              "    <tr style=\"text-align: right;\">\n",
              "      <th></th>\n",
              "      <th>Model</th>\n",
              "      <th>Training Accuracy</th>\n",
              "      <th>Testing Accuracy</th>\n",
              "      <th>Accuracy Score</th>\n",
              "      <th>Precision Score</th>\n",
              "      <th>Recall Score</th>\n",
              "      <th>F1 Score</th>\n",
              "    </tr>\n",
              "  </thead>\n",
              "  <tbody>\n",
              "    <tr>\n",
              "      <th>0</th>\n",
              "      <td>K-Nearest Neighbors (KNN)</td>\n",
              "      <td>0.832860</td>\n",
              "      <td>0.760057</td>\n",
              "      <td>0.760057</td>\n",
              "      <td>0.814052</td>\n",
              "      <td>0.836862</td>\n",
              "      <td>1.587350</td>\n",
              "    </tr>\n",
              "    <tr>\n",
              "      <th>1</th>\n",
              "      <td>Support Vector Machine (SVM)</td>\n",
              "      <td>0.736308</td>\n",
              "      <td>0.730715</td>\n",
              "      <td>0.730715</td>\n",
              "      <td>0.730715</td>\n",
              "      <td>1.000000</td>\n",
              "      <td>1.577796</td>\n",
              "    </tr>\n",
              "    <tr>\n",
              "      <th>2</th>\n",
              "      <td>Logistic Regression</td>\n",
              "      <td>0.808722</td>\n",
              "      <td>0.798391</td>\n",
              "      <td>0.798391</td>\n",
              "      <td>0.835938</td>\n",
              "      <td>0.824541</td>\n",
              "      <td>1.584900</td>\n",
              "    </tr>\n",
              "    <tr>\n",
              "      <th>3</th>\n",
              "      <td>Random Forest</td>\n",
              "      <td>0.997972</td>\n",
              "      <td>0.785140</td>\n",
              "      <td>0.785140</td>\n",
              "      <td>0.821344</td>\n",
              "      <td>0.839662</td>\n",
              "      <td>1.584799</td>\n",
              "    </tr>\n",
              "    <tr>\n",
              "      <th>4</th>\n",
              "      <td>Adaptive Boosting (Adaboost)</td>\n",
              "      <td>0.808925</td>\n",
              "      <td>0.795551</td>\n",
              "      <td>0.795551</td>\n",
              "      <td>0.832934</td>\n",
              "      <td>0.827484</td>\n",
              "      <td>1.584900</td>\n",
              "    </tr>\n",
              "    <tr>\n",
              "      <th>5</th>\n",
              "      <td>Extreme Gradient Boosting (XGB)</td>\n",
              "      <td>0.824949</td>\n",
              "      <td>0.797444</td>\n",
              "      <td>0.797444</td>\n",
              "      <td>0.835337</td>\n",
              "      <td>0.824926</td>\n",
              "      <td>1.584951</td>\n",
              "    </tr>\n",
              "  </tbody>\n",
              "</table>\n",
              "</div>"
            ],
            "text/plain": [
              "                             Model  Training Accuracy  ...  Recall Score  F1 Score\n",
              "0        K-Nearest Neighbors (KNN)           0.832860  ...      0.836862  1.587350\n",
              "1     Support Vector Machine (SVM)           0.736308  ...      1.000000  1.577796\n",
              "2              Logistic Regression           0.808722  ...      0.824541  1.584900\n",
              "3                    Random Forest           0.997972  ...      0.839662  1.584799\n",
              "4     Adaptive Boosting (Adaboost)           0.808925  ...      0.827484  1.584900\n",
              "5  Extreme Gradient Boosting (XGB)           0.824949  ...      0.824926  1.584951\n",
              "\n",
              "[6 rows x 7 columns]"
            ]
          },
          "metadata": {
            "tags": []
          },
          "execution_count": 140
        }
      ]
    },
    {
      "cell_type": "markdown",
      "metadata": {
        "id": "qiWlvHVDH4pd"
      },
      "source": [
        "Jika dilihat, skor akurasi training tertinggi diperoleh dengan model Random Forest Classifier sebesar 99% sementara testing accuracynya mencapai angka 78.5%, jauh berbeda dengan skor trainingnya. Khawatirnya, model mengalami overfitting tetapi dengan menggunakan feature engineering performa model bisa diperbaiki. Adapun model ML yang paling stabil adalah menggunakan Logistic Regression, Adaboost Classifier atau XGB Classifier karena perbedaan yang sedikit antara skor training dan skor testing. Jika dilihat dari skor accuracy, precision, dan F1_score, Logistic Regression memiliki performa yang paling baik."
      ]
    },
    {
      "cell_type": "markdown",
      "metadata": {
        "id": "v_Heb86Y1aEh"
      },
      "source": [
        "## Bagian  Tambahan : Eksplorasi Data"
      ]
    },
    {
      "cell_type": "markdown",
      "metadata": {
        "id": "bekpESUp2yY0"
      },
      "source": [
        "### Bagian II.B Visualisasi Data\n",
        "\n",
        "Pada bagian ini akan dilakukan visualisasi data yang dibagi kepada tiga kategori yakni identitas pengguna, fasilitas dan akun pengguna."
      ]
    },
    {
      "cell_type": "markdown",
      "metadata": {
        "id": "6b9bNKJU8wmb"
      },
      "source": [
        "#### Identitas Pengguna"
      ]
    },
    {
      "cell_type": "code",
      "metadata": {
        "id": "ooXIZl5koCSr"
      },
      "source": [
        "identitas_pengguna = df.iloc[:,1:6]\n",
        "identitas_pengguna.head()"
      ],
      "execution_count": null,
      "outputs": []
    },
    {
      "cell_type": "markdown",
      "metadata": {
        "id": "ZsGNZDKU2z8Y"
      },
      "source": [
        "##### Gender dan SeniorCitizen"
      ]
    },
    {
      "cell_type": "code",
      "metadata": {
        "id": "rBrdr-asYDmK"
      },
      "source": [
        "from plotly.subplots import make_subplots\n",
        "import plotly.graph_objects as go\n",
        "\n",
        "# Declare \"fig\" as subplots\n",
        "fig = make_subplots(rows = 1, cols = 2, subplot_titles = (\"Gender\",\"Senior Citizen\",\"Partner\",\"Dependent\",\"Tenure\"), specs=[[{\"type\": \"pie\"}, {\"type\": \"pie\"}]])\n",
        "\n",
        "# Make subplots for each categories\n",
        "fig.add_trace(go.Pie(labels = identitas_pengguna['gender'], values = identitas_pengguna['gender'].value_counts()), row = 1, col = 1)\n",
        "fig.add_trace(go.Pie(labels = ['No','Yes'], values = identitas_pengguna['SeniorCitizen'].value_counts()), row = 1, col = 2)\n",
        "fig.show()"
      ],
      "execution_count": null,
      "outputs": []
    },
    {
      "cell_type": "markdown",
      "metadata": {
        "id": "Fm_OrzZS3lIp"
      },
      "source": [
        "Jumlah kelamin perempuan dan laki-laki hampir sama, jadi data yang akan kita gunakan representatif terhadap kelamin.\n",
        "\n",
        "Terdapat perbandingan 1:5 antara pengguna yang merupakan SeniorCitizen (Pelanggan yang sudah pensiun dan penghidupannya berasal dari uang pensiun) terhadap pengguna yang bukan merupakan SeniorCitizen."
      ]
    },
    {
      "cell_type": "markdown",
      "metadata": {
        "id": "poeyEMJl5L77"
      },
      "source": [
        "##### Partner and Dependent"
      ]
    },
    {
      "cell_type": "code",
      "metadata": {
        "id": "uoX5ArNee6gX"
      },
      "source": [
        "print(identitas_pengguna['Partner'].value_counts())\n",
        "\n",
        "print(identitas_pengguna['Dependents'].value_counts())"
      ],
      "execution_count": null,
      "outputs": []
    },
    {
      "cell_type": "code",
      "metadata": {
        "id": "lL2zsoNk5JzZ"
      },
      "source": [
        "from plotly.subplots import make_subplots\n",
        "import plotly.graph_objects as go\n",
        "\n",
        "# Declare \"fig\" as subplots\n",
        "fig = make_subplots(rows = 1, cols = 2, subplot_titles = (\"Partner\",\"Dependent\"), specs=[[{\"type\": \"bar\"}, {\"type\": \"bar\"}]])\n",
        "\n",
        "# Make subplots for each categories\n",
        "colors = ['maroon','blue']\n",
        "fig.add_trace(go.Bar(x = ['No','Yes'], y = identitas_pengguna['Partner'].value_counts(), marker_color = colors), row = 1, col = 1)\n",
        "fig.add_trace(go.Bar(x = identitas_pengguna['Dependents'].unique(), y = identitas_pengguna['Dependents'].value_counts(), marker_color = colors), row = 1, col = 2)\n",
        "\n",
        "fig.show()"
      ],
      "execution_count": null,
      "outputs": []
    },
    {
      "cell_type": "markdown",
      "metadata": {
        "id": "wD_yheQV5785"
      },
      "source": [
        "Ada sedikit perbedaan antara pelanggan yang memiliki partner dengan yang tidak sementara, ada perbedaan yang besar antara pengguna yang hidup bergantung dengan yang tidak bergantung pada siapapun\n",
        "\n",
        "Lalu, berikutnya akan dilihat persentase pengguna yang memiliki partner dan dependen, salah satunya dan yang tidak. Misalkan,\n",
        "\n",
        "* \"Yes\" - jika pelanggan memiliki partner dan dependent\n",
        "* \"Partial\" - Jika pelanggan memiliki salah satunya\n",
        "* \"No\" - Jika pelanggan tidak memiliki keduanya"
      ]
    },
    {
      "cell_type": "code",
      "metadata": {
        "id": "i0fhwIUsYcgv"
      },
      "source": [
        "df['Partner & Dependent'] = \"\""
      ],
      "execution_count": null,
      "outputs": []
    },
    {
      "cell_type": "code",
      "metadata": {
        "id": "TaNuA7erb1i6"
      },
      "source": [
        "for i in range(len(df)):\n",
        "  if df.iloc[i, 3] == 'Yes' and df.iloc[i,4] == 'Yes':\n",
        "    df['Partner & Dependent'][i] = 'Yes'\n",
        "  elif df.iloc[i, 3] == 'No' and df.iloc[i, 4] == 'No':\n",
        "    df['Partner & Dependent'][i] = 'No'\n",
        "  else:\n",
        "    df['Partner & Dependent'][i] = 'Partial'"
      ],
      "execution_count": null,
      "outputs": []
    },
    {
      "cell_type": "code",
      "metadata": {
        "id": "HOVFstyNja9O"
      },
      "source": [
        "df['Partner & Dependent'].value_counts()"
      ],
      "execution_count": null,
      "outputs": []
    },
    {
      "cell_type": "code",
      "metadata": {
        "id": "O2BRdAksjGGa"
      },
      "source": [
        "x=['No', 'Partial', 'Yes']\n",
        "\n",
        "fig = go.Figure(data=[\n",
        "    go.Pie(name='Partner and Dependent?', labels=x, values=df['Partner & Dependent'].value_counts())])\n",
        "\n",
        "fig.show()"
      ],
      "execution_count": null,
      "outputs": []
    },
    {
      "cell_type": "markdown",
      "metadata": {
        "id": "hrFcsCZ-j8I8"
      },
      "source": [
        "Sebagian besar dari pelanggan ternyata tidak memiliki keduanya, lalu Lebih lanjut lagi, kita dapat melihat apakah SeniorCitizen ini memiliki partner dan dependen serta apa pengaruhnya terhadap tenure "
      ]
    },
    {
      "cell_type": "code",
      "metadata": {
        "id": "9gj88ObtZOQX"
      },
      "source": [
        "fig = plt.figure(figsize = (15,10))\n",
        "sns.barplot(x = 'SeniorCitizen', y = 'tenure', hue = 'Partner & Dependent', data = df)"
      ],
      "execution_count": null,
      "outputs": []
    },
    {
      "cell_type": "markdown",
      "metadata": {
        "id": "lyALNYeidxDm"
      },
      "source": [
        "Dapat diamati bahwa baik yang SeniorCitizen ataupun yang tidak ternyata lebih cenderung memiliki total tenure yang lebih lama jika ia memiliki partner dan bergantung dibanding dengan yang tidak ataupun yang salah satunya."
      ]
    },
    {
      "cell_type": "markdown",
      "metadata": {
        "id": "8YuhL1Ww6MAy"
      },
      "source": [
        "##### Tenure"
      ]
    },
    {
      "cell_type": "code",
      "metadata": {
        "id": "7vbczicJ6LVz"
      },
      "source": [
        "sns.distplot(df['tenure'])"
      ],
      "execution_count": null,
      "outputs": []
    },
    {
      "cell_type": "code",
      "metadata": {
        "id": "W4x7VtFVknPj"
      },
      "source": [
        "import plotly.figure_factory as ff\n",
        "import numpy as np\n",
        "\n",
        "np.random.seed(1)\n",
        "\n",
        "x = identitas_pengguna['tenure']\n",
        "hist_data = [x]\n",
        "group_labels = ['distplot'] # name of the dataset\n",
        "\n",
        "fig = ff.create_distplot(hist_data, group_labels)\n",
        "fig.show()"
      ],
      "execution_count": null,
      "outputs": []
    },
    {
      "cell_type": "markdown",
      "metadata": {
        "id": "u_dMoJpk6guE"
      },
      "source": [
        "Dapat diamati bahwa distribusi cenderung menceng ke arah kanan (skew to the right) namun terdapat puncak kedua yang berada di sekitar 60 - 70. Ini berarti bahwa ada lebih banyak orang yang berlangganan/tenure dalam waktu sebentar sekitar 0-10 bulan dan orang yang berlangganan/tenure dalam waktu lama sekitar 60 - 70 bulan."
      ]
    },
    {
      "cell_type": "markdown",
      "metadata": {
        "id": "_0ubW4X88mHU"
      },
      "source": [
        "#### Fasilitas"
      ]
    },
    {
      "cell_type": "markdown",
      "metadata": {
        "id": "I6jrNiTU7C9z"
      },
      "source": [
        "##### PhoneService "
      ]
    },
    {
      "cell_type": "code",
      "metadata": {
        "id": "P0T9Y8jf7GLh"
      },
      "source": [
        "sns.countplot(x='PhoneService',data=df)"
      ],
      "execution_count": null,
      "outputs": []
    },
    {
      "cell_type": "markdown",
      "metadata": {
        "id": "koePX01M7S7I"
      },
      "source": [
        "Ada perbandingan yang jauh drastis antara pengguna yang menggunakan layanan telepon dengan yang tidak"
      ]
    },
    {
      "cell_type": "markdown",
      "metadata": {
        "id": "lBrcyX9p7czE"
      },
      "source": [
        "##### MultipleLines"
      ]
    },
    {
      "cell_type": "code",
      "metadata": {
        "id": "bPSaeTGO7aHy"
      },
      "source": [
        "sns.countplot(x='MultipleLines',data = df)"
      ],
      "execution_count": null,
      "outputs": []
    },
    {
      "cell_type": "markdown",
      "metadata": {
        "id": "eaf1ih2-7kOD"
      },
      "source": [
        "Pengguna yang berlangganan layanan telepon tetapi tidak menggunakan fasilitas multiplelines lebih banyak daripada pengguna yang menggunakan fasilitas multiplelines"
      ]
    },
    {
      "cell_type": "markdown",
      "metadata": {
        "id": "tNdDzFrT83Aw"
      },
      "source": [
        "##### InternetService"
      ]
    },
    {
      "cell_type": "code",
      "metadata": {
        "id": "aqKw6zev8gFE"
      },
      "source": [
        "sns.countplot(x='InternetService',data=df)"
      ],
      "execution_count": null,
      "outputs": []
    },
    {
      "cell_type": "markdown",
      "metadata": {
        "id": "IhMBgaCj8_0U"
      },
      "source": [
        "Pengguna Fiber optic mendominasi pengguna DSL, lalu jumlah pengguna yang tidak menggunakan layanan Internet juga cukup banyak"
      ]
    },
    {
      "cell_type": "markdown",
      "metadata": {
        "id": "xPnNJQWN9M3s"
      },
      "source": [
        "##### OnlineSecurity"
      ]
    },
    {
      "cell_type": "code",
      "metadata": {
        "id": "gCS_8dxp9Jbn"
      },
      "source": [
        "sns.countplot(x='OnlineSecurity',data=df)"
      ],
      "execution_count": null,
      "outputs": []
    },
    {
      "cell_type": "markdown",
      "metadata": {
        "id": "HxaCWQBG9UIl"
      },
      "source": [
        "Meskipun keamanan saat beronline itu penting, pengguna yang tidak menggunakan Online Security lebih banyak daripada pengguna yang menggunakan Online Security"
      ]
    },
    {
      "cell_type": "markdown",
      "metadata": {
        "id": "adDIq-5n9h1K"
      },
      "source": [
        "##### Online Backup"
      ]
    },
    {
      "cell_type": "code",
      "metadata": {
        "id": "wEaGOwAk9mkb"
      },
      "source": [
        "sns.countplot(x='OnlineBackup',data=df)"
      ],
      "execution_count": null,
      "outputs": []
    },
    {
      "cell_type": "markdown",
      "metadata": {
        "id": "bFM0qG1l9rUE"
      },
      "source": [
        "Sama seperti kasus sebelumnya, pengguna yang tidak menggunakan layanan Online Backup lebih banyak daripada pengguna yang menggunakan layanan Online Backup "
      ]
    },
    {
      "cell_type": "markdown",
      "metadata": {
        "id": "PDKGVt4c_f_j"
      },
      "source": [
        "##### DeviceProtection"
      ]
    },
    {
      "cell_type": "code",
      "metadata": {
        "id": "BHDEXDV1_jCU"
      },
      "source": [
        "sns.countplot(x='DeviceProtection',data=df)"
      ],
      "execution_count": null,
      "outputs": []
    },
    {
      "cell_type": "markdown",
      "metadata": {
        "id": "M4Y4d2AJ_wIK"
      },
      "source": [
        "Pengguna yang tidak menggunakan layanan DeviceProtection juga lebih banyak daripada yang menggunakan layanan DeviceProtection"
      ]
    },
    {
      "cell_type": "markdown",
      "metadata": {
        "id": "SOm4EwtL_7KD"
      },
      "source": [
        "##### TechSupport"
      ]
    },
    {
      "cell_type": "code",
      "metadata": {
        "id": "H-mkyz0Y_6iM"
      },
      "source": [
        "sns.countplot(x='TechSupport',data=df)"
      ],
      "execution_count": null,
      "outputs": []
    },
    {
      "cell_type": "markdown",
      "metadata": {
        "id": "B6cAojPQAFUk"
      },
      "source": [
        "Pengguna yang tidak menggunakan layanan TechSupport juga lebih banyak daripada pengguna yang menggunakan layanan TechSupport"
      ]
    },
    {
      "cell_type": "markdown",
      "metadata": {
        "id": "70iG7FfLAMHO"
      },
      "source": [
        "##### StreamingTV"
      ]
    },
    {
      "cell_type": "code",
      "metadata": {
        "id": "6iYzI4CWAPRD"
      },
      "source": [
        "sns.countplot(x='StreamingTV',data=df)"
      ],
      "execution_count": null,
      "outputs": []
    },
    {
      "cell_type": "markdown",
      "metadata": {
        "id": "4a1-vIgyATa6"
      },
      "source": [
        "Kini, pengguna yang menggunakan layanan StreamingTV hampir menyamai jumlah pengguna yang tidak menggunakan layanan StreamingTV "
      ]
    },
    {
      "cell_type": "markdown",
      "metadata": {
        "id": "olRf2xqTAf9d"
      },
      "source": [
        "##### StreamingMovies"
      ]
    },
    {
      "cell_type": "code",
      "metadata": {
        "id": "dX01nXtlAbca"
      },
      "source": [
        "sns.countplot(x='StreamingMovies',data=df)"
      ],
      "execution_count": null,
      "outputs": []
    },
    {
      "cell_type": "markdown",
      "metadata": {
        "id": "b8hlVlGsAkIE"
      },
      "source": [
        "Ini juga sama pengguna yang menggunakan layanan StreamingMovies hampir menyamai jumlah pengguna yang tidak menggunakan layanan tersebut"
      ]
    },
    {
      "cell_type": "markdown",
      "metadata": {
        "id": "jlNdqzATAtQO"
      },
      "source": [
        "#### Akun Pengguna"
      ]
    },
    {
      "cell_type": "markdown",
      "metadata": {
        "id": "h_N7ZUV6AveU"
      },
      "source": [
        "##### Contract"
      ]
    },
    {
      "cell_type": "code",
      "metadata": {
        "id": "hXO9gIEiApv9"
      },
      "source": [
        "sns.countplot(df['Contract'])"
      ],
      "execution_count": null,
      "outputs": []
    },
    {
      "cell_type": "markdown",
      "metadata": {
        "id": "IG9ZVehpA4MU"
      },
      "source": [
        "Pengguna yang berlangganan secara bulanan adalah yang paling banyak, diikuti dengan pengguna yang berlangganan 2 tahun dan yang berlangganan secara 1 tahun.  "
      ]
    },
    {
      "cell_type": "markdown",
      "metadata": {
        "id": "zaWpPl1fBKil"
      },
      "source": [
        "##### Paperless Billing"
      ]
    },
    {
      "cell_type": "code",
      "metadata": {
        "id": "99T5bA8pBPMT"
      },
      "source": [
        "sns.countplot(df['PaperlessBilling'])"
      ],
      "execution_count": null,
      "outputs": []
    },
    {
      "cell_type": "markdown",
      "metadata": {
        "id": "c5feRiOgBWUt"
      },
      "source": [
        "Pengguna yang menggunakan paperless biling lebih banyak daripada yang tidak"
      ]
    },
    {
      "cell_type": "markdown",
      "metadata": {
        "id": "Jy4gd0hnBcEe"
      },
      "source": [
        "##### Payment Method"
      ]
    },
    {
      "cell_type": "code",
      "metadata": {
        "id": "Wv_uhoB3BhgU"
      },
      "source": [
        "plt.figure(figsize=(15,10))\n",
        "sns.countplot(df['PaymentMethod'])"
      ],
      "execution_count": null,
      "outputs": []
    },
    {
      "cell_type": "markdown",
      "metadata": {
        "id": "EJNCF8mcBoeG"
      },
      "source": [
        "Pengguna dengan electronic check paling banyak dibandingkan dengan yang lain"
      ]
    },
    {
      "cell_type": "markdown",
      "metadata": {
        "id": "W03QHSdnBtoO"
      },
      "source": [
        "##### TotalCharges"
      ]
    },
    {
      "cell_type": "code",
      "metadata": {
        "id": "j0hQyPwOB4Me"
      },
      "source": [
        "sns.distplot(df['TotalCharges'])"
      ],
      "execution_count": null,
      "outputs": []
    },
    {
      "cell_type": "markdown",
      "metadata": {
        "id": "ukhkP5twCR79"
      },
      "source": [
        "Distribusi untuk total biaya pengguna cenderung menceng kanan (skew to the right), mayoritas pengguna lebih banyak memiliki total biaya yang kurang dari rata-rata"
      ]
    },
    {
      "cell_type": "markdown",
      "metadata": {
        "id": "EvpwBUKTCdKt"
      },
      "source": [
        "##### Churn Customers"
      ]
    },
    {
      "cell_type": "markdown",
      "metadata": {
        "id": "BSq1PSrzrAR0"
      },
      "source": [
        ""
      ]
    },
    {
      "cell_type": "code",
      "metadata": {
        "id": "hjQg1YuoCemW"
      },
      "source": [
        "sns.countplot(df['Churn'])"
      ],
      "execution_count": null,
      "outputs": []
    },
    {
      "cell_type": "markdown",
      "metadata": {
        "id": "CYs1wa9QCkI7"
      },
      "source": [
        "Lebih banyak pengguna yang tidak churn daripada yang churn"
      ]
    }
  ]
}